{
  "nbformat": 4,
  "nbformat_minor": 0,
  "metadata": {
    "colab": {
      "name": "Modulo01_Grupo11.ipynb",
      "provenance": [],
      "collapsed_sections": [],
      "include_colab_link": true
    },
    "kernelspec": {
      "name": "python3",
      "display_name": "Python 3"
    },
    "language_info": {
      "name": "python"
    }
  },
  "cells": [
    {
      "cell_type": "markdown",
      "metadata": {
        "id": "view-in-github",
        "colab_type": "text"
      },
      "source": [
        "<a href=\"https://colab.research.google.com/github/JuanSCalderon/MinTic/blob/main/Modulo01_Grupo11.ipynb\" target=\"_parent\"><img src=\"https://colab.research.google.com/assets/colab-badge.svg\" alt=\"Open In Colab\"/></a>"
      ]
    },
    {
      "cell_type": "code",
      "execution_count": null,
      "metadata": {
        "id": "m9bXbiMI4qvz",
        "colab": {
          "base_uri": "https://localhost:8080/"
        },
        "outputId": "4b8196a3-810a-421f-963d-a26e75e23a6d"
      },
      "outputs": [
        {
          "output_type": "stream",
          "name": "stdout",
          "text": [
            "Hola MINTIC\n",
            "12+2\n",
            "14\n",
            "Hola MINTIC\n"
          ]
        }
      ],
      "source": [
        "print(\"Hola MINTIC\")\n",
        "print(\"12+2\")\n",
        "print(12+2)\n",
        "print('Hola MINTIC') "
      ]
    },
    {
      "cell_type": "code",
      "source": [
        "print(\"Hola MINTIC\")\n",
        "print(\"Hola MINTIC\")\n",
        "print(\"Hola MINTIC\")\n",
        "print(\"Hola MINTIC\")\n",
        "print(\"Hola MINTIC\")"
      ],
      "metadata": {
        "colab": {
          "base_uri": "https://localhost:8080/"
        },
        "id": "elhT5uK4vXWV",
        "outputId": "b7bc921a-ee63-4791-9a6f-6223202309e9"
      },
      "execution_count": null,
      "outputs": [
        {
          "output_type": "stream",
          "name": "stdout",
          "text": [
            "Hola MINTIC\n",
            "Hola MINTIC\n",
            "Hola MINTIC\n",
            "Hola MINTIC\n",
            "Hola MINTIC\n"
          ]
        }
      ]
    },
    {
      "cell_type": "code",
      "source": [
        "print(\"Hola MINTIC \"+\"Hola MINTIC\")"
      ],
      "metadata": {
        "colab": {
          "base_uri": "https://localhost:8080/"
        },
        "id": "8t-FGb24vddw",
        "outputId": "cc94dc21-08a2-4ab1-a9bd-ab878ebdea15"
      },
      "execution_count": null,
      "outputs": [
        {
          "output_type": "stream",
          "name": "stdout",
          "text": [
            "Hola MINTIC Hola MINTIC\n"
          ]
        }
      ]
    },
    {
      "cell_type": "code",
      "source": [
        "texto = \"Hola MINTIC\" # cadena de caracteres: string (str)\n",
        "edad = 15 # número entero: integer (int)"
      ],
      "metadata": {
        "id": "hQEGlsYQ6olv"
      },
      "execution_count": null,
      "outputs": []
    },
    {
      "cell_type": "code",
      "source": [
        "Edad = 44"
      ],
      "metadata": {
        "id": "pp2S7KvW9aAr"
      },
      "execution_count": null,
      "outputs": []
    },
    {
      "cell_type": "code",
      "source": [
        "print(edad)\n",
        "print(Edad)"
      ],
      "metadata": {
        "colab": {
          "base_uri": "https://localhost:8080/"
        },
        "id": "qpPBSnsQ9eRe",
        "outputId": "b23b9bcf-883f-41b8-fb4c-15b60cb481fc"
      },
      "execution_count": null,
      "outputs": [
        {
          "output_type": "stream",
          "name": "stdout",
          "text": [
            "15\n",
            "44\n"
          ]
        }
      ]
    },
    {
      "cell_type": "code",
      "source": [
        "print(texto)"
      ],
      "metadata": {
        "colab": {
          "base_uri": "https://localhost:8080/"
        },
        "id": "vOJdRTHn9jYu",
        "outputId": "a7232669-57b7-4883-8bc0-17c552e2c11e"
      },
      "execution_count": null,
      "outputs": [
        {
          "output_type": "stream",
          "name": "stdout",
          "text": [
            "Hola MINTIC\n"
          ]
        }
      ]
    },
    {
      "cell_type": "code",
      "source": [
        "nombre, apellido = \"Cesar\", \"Quintero\"\n",
        "\n",
        "print(nombre + apellido)\n",
        "print(nombre, apellido)\n",
        "print(32+2)\n",
        "print(32,2)\n",
        "print(edad + Edad)\n",
        "print(edad, Edad) \n",
        "print(nombre, edad)\n",
        "# print(nombre + edad) No se puede ejecutar"
      ],
      "metadata": {
        "colab": {
          "base_uri": "https://localhost:8080/"
        },
        "id": "WpCrvVNr-XAK",
        "outputId": "6d2ca134-7682-474d-918f-b866c019b236"
      },
      "execution_count": null,
      "outputs": [
        {
          "output_type": "stream",
          "name": "stdout",
          "text": [
            "CesarQuintero\n",
            "Cesar Quintero\n",
            "34\n",
            "32 2\n",
            "59\n",
            "15 44\n",
            "Cesar 15\n"
          ]
        }
      ]
    },
    {
      "cell_type": "code",
      "source": [
        "print(nombre + apellido, Edad)"
      ],
      "metadata": {
        "id": "fHV5sLwg-ryw",
        "colab": {
          "base_uri": "https://localhost:8080/"
        },
        "outputId": "6fa0f27e-1e61-4c1b-81c5-81c8ea81e9bd"
      },
      "execution_count": null,
      "outputs": [
        {
          "output_type": "stream",
          "name": "stdout",
          "text": [
            "CesarQuintero 44\n"
          ]
        }
      ]
    },
    {
      "cell_type": "code",
      "source": [
        "texto = \"Hola MINTIC\" # cadena de caracteres: string (str)\n",
        "edad = 15 # número entero: integer (int)\n",
        "pi = 3.141592 # número real: float (float)\n",
        "B = True # boleano (bool)"
      ],
      "metadata": {
        "id": "NFbF7XCI3Mmf"
      },
      "execution_count": null,
      "outputs": []
    },
    {
      "cell_type": "code",
      "source": [
        "print(type(texto))\n",
        "print(type(edad))\n",
        "print(B)"
      ],
      "metadata": {
        "colab": {
          "base_uri": "https://localhost:8080/"
        },
        "id": "3b-IKYC_3MdK",
        "outputId": "5c3ae562-3482-4d57-c82d-f6dabdc6f03a"
      },
      "execution_count": null,
      "outputs": [
        {
          "output_type": "stream",
          "name": "stdout",
          "text": [
            "<class 'str'>\n",
            "<class 'int'>\n",
            "True\n"
          ]
        }
      ]
    },
    {
      "cell_type": "code",
      "source": [
        "type(35e3)\n",
        "12E3"
      ],
      "metadata": {
        "colab": {
          "base_uri": "https://localhost:8080/"
        },
        "id": "XUR0ciJh3MVV",
        "outputId": "c0d391ea-272f-4e56-e7a4-771794086889"
      },
      "execution_count": null,
      "outputs": [
        {
          "output_type": "execute_result",
          "data": {
            "text/plain": [
              "12000.0"
            ]
          },
          "metadata": {},
          "execution_count": 20
        }
      ]
    },
    {
      "cell_type": "code",
      "source": [
        "num1 = 3\n",
        "num2 = \"3\"\n",
        "num3 = int(\"3\")\n",
        "num1 + num3"
      ],
      "metadata": {
        "colab": {
          "base_uri": "https://localhost:8080/"
        },
        "id": "tJMyIZgW3MNL",
        "outputId": "129aecbe-9a13-4ec2-9473-6ea5f6b45c25"
      },
      "execution_count": null,
      "outputs": [
        {
          "output_type": "execute_result",
          "data": {
            "text/plain": [
              "6"
            ]
          },
          "metadata": {},
          "execution_count": 28
        }
      ]
    },
    {
      "cell_type": "code",
      "source": [
        "print('|  \"  |')"
      ],
      "metadata": {
        "colab": {
          "base_uri": "https://localhost:8080/"
        },
        "id": "RmMRUjTp3L_3",
        "outputId": "9dd7e7a9-be05-4b8c-d0aa-178c5707c655"
      },
      "execution_count": null,
      "outputs": [
        {
          "output_type": "stream",
          "name": "stdout",
          "text": [
            "|  \"  |\n"
          ]
        }
      ]
    },
    {
      "cell_type": "markdown",
      "source": [
        "Bicondicional: si y solo si.\n",
        "\n",
        "Condicional: si... entonces...\n",
        "\n",
        "si ANTECEDENTE entonces CONSECUENTE\n",
        "\n",
        "si estudio para el parcial entonces paso el parcial.\n",
        "\n",
        "si CONDICIÓN:\n",
        "    INSTRUCCIONES 1\n",
        "CONTINUACIÓN CON EL CÓDIGO.\n",
        "\n",
        "si CONDICIÓN:\n",
        "    INSTRUCCIONES 1\n",
        "si no:\n",
        "    INSTRUCCIONES 2\n",
        "CONTINUACIÓN CON EL CÓDIGO.\n"
      ],
      "metadata": {
        "id": "3bj1irlkZucm"
      }
    },
    {
      "cell_type": "code",
      "source": [
        "# OPERADORES ARITMÉTICOS.\n",
        "print(2 + 3)\n",
        "print(4 * 5)\n",
        "print(20 / 6)\n",
        "print(\"Módulo, operador %:\")\n",
        "print(10 % 3)\n",
        "print(\"Potenciación, operador **:\")\n",
        "print(2 ** (2 ** 2))\n",
        "print(\"División entera, operador //\")\n",
        "print(10 // 3)"
      ],
      "metadata": {
        "colab": {
          "base_uri": "https://localhost:8080/"
        },
        "id": "F9UKs_D6Z0eQ",
        "outputId": "124d5219-e611-42b6-9298-890fe9fee22c"
      },
      "execution_count": null,
      "outputs": [
        {
          "output_type": "stream",
          "name": "stdout",
          "text": [
            "5\n",
            "20\n",
            "3.3333333333333335\n",
            "Módulo, operador %:\n",
            "1\n",
            "Potenciación, operador **:\n",
            "16\n",
            "División entera, operador //\n",
            "3\n"
          ]
        }
      ]
    },
    {
      "cell_type": "code",
      "source": [
        "# OPERADORES DE ASIGNACIÓN.\n",
        "x = 5\n",
        "print(\"x = \",x)\n",
        "x = x + 1\n",
        "print(\"x + 1 = \",x)\n",
        "x = 5\n",
        "print(\"x = \",x)\n",
        "x += 1\n",
        "print(\"x += 1: \",x)\n",
        "x **= 2  # x = 36\n",
        "x = x ** 2 # 1296\n",
        "x"
      ],
      "metadata": {
        "colab": {
          "base_uri": "https://localhost:8080/"
        },
        "id": "yB3c_FxoZ16T",
        "outputId": "e77598d4-b3bd-4823-871d-37e416eba467"
      },
      "execution_count": null,
      "outputs": [
        {
          "output_type": "stream",
          "name": "stdout",
          "text": [
            "x =  5\n",
            "x + 1 =  6\n",
            "x =  5\n",
            "x += 1:  6\n"
          ]
        },
        {
          "output_type": "execute_result",
          "data": {
            "text/plain": [
              "1296"
            ]
          },
          "metadata": {},
          "execution_count": 2
        }
      ]
    },
    {
      "cell_type": "code",
      "source": [
        "x = 100\n",
        "print(x * 0.05)\n",
        "print(x * 5/100)"
      ],
      "metadata": {
        "colab": {
          "base_uri": "https://localhost:8080/"
        },
        "id": "BmkT_wj4Z1u0",
        "outputId": "f3f3aec4-2062-47b5-a6fe-a0a81df54fa8"
      },
      "execution_count": null,
      "outputs": [
        {
          "output_type": "stream",
          "name": "stdout",
          "text": [
            "5.0\n",
            "5.0\n"
          ]
        }
      ]
    },
    {
      "cell_type": "code",
      "source": [
        "# OPERADORES DE COMPARACIÓN \n",
        "print(\"x = 3\")\n",
        "x = 3\n",
        "print(x)\n",
        "print(\"x es igual a 4?:\")\n",
        "print(x == 4)\n",
        "print(\"x NO es igual a 3?:\")\n",
        "print(x != 3)\n",
        "print(\"x es mayor que 2?:\")\n",
        "print(x > 2)\n",
        "print(\"x es menor que 3?:\")\n",
        "print(x < 3)\n",
        "print(\"x es menor o igual a 3?:\")\n",
        "print(x <= 3)"
      ],
      "metadata": {
        "id": "yE_T462uZ1j-",
        "colab": {
          "base_uri": "https://localhost:8080/"
        },
        "outputId": "587780ea-dd06-47c7-c87e-4c54608434b2"
      },
      "execution_count": null,
      "outputs": [
        {
          "output_type": "stream",
          "name": "stdout",
          "text": [
            "x = 3\n",
            "3\n",
            "x es igual a 4?:\n",
            "False\n",
            "x NO es igual a 3?:\n",
            "False\n",
            "x es mayor que 2?:\n",
            "True\n",
            "x es menor que 3?:\n",
            "False\n",
            "x es menor o igual a 3?:\n",
            "True\n"
          ]
        }
      ]
    },
    {
      "cell_type": "code",
      "source": [
        "# OPERADORES LÓGICOS.\n",
        "print(\"and:\")\n",
        "print((x > 2) and (x <= 3))\n",
        "print((x < 2) and (x > 2))\n",
        "print(True and False)\n",
        "print(False and False)\n",
        "print(\"or:\")\n",
        "print(True or False)\n",
        "print(False or False)\n"
      ],
      "metadata": {
        "id": "0aOWyyGIZ1X2",
        "colab": {
          "base_uri": "https://localhost:8080/"
        },
        "outputId": "1bbc92b7-32de-44b9-fdaf-1b982590b2f5"
      },
      "execution_count": null,
      "outputs": [
        {
          "output_type": "stream",
          "name": "stdout",
          "text": [
            "and:\n",
            "True\n",
            "False\n",
            "False\n",
            "False\n",
            "or:\n",
            "True\n",
            "False\n"
          ]
        }
      ]
    },
    {
      "cell_type": "code",
      "source": [
        "# OPERADORES DE IDENTIDAD:\n",
        "x = 3\n",
        "print(\"x == 3?:\")\n",
        "print(x == 3)\n",
        "print(\"x es igual a 3?\")\n",
        "print(x is 3)\n",
        "x = \"a\"\n",
        "print(\"x = 'a'\")\n",
        "print(\"x es igual a la letra 'a'?\")\n",
        "print(x is \"a\")\n",
        "print(\"x no es igual a la letra 'a'?:\")\n",
        "print(x is not \"a\")"
      ],
      "metadata": {
        "colab": {
          "base_uri": "https://localhost:8080/"
        },
        "id": "_PP2q382k8xW",
        "outputId": "f687d6a8-5e9b-4213-b16d-b9579bf47a1a"
      },
      "execution_count": null,
      "outputs": [
        {
          "output_type": "stream",
          "name": "stdout",
          "text": [
            "x == 3?:\n",
            "True\n",
            "x es igual a 3?\n",
            "True\n",
            "x = 'a'\n",
            "x es igual a la letra 'a'?\n",
            "True\n",
            "x no es igual a la letra 'a'?:\n",
            "False\n"
          ]
        }
      ]
    },
    {
      "cell_type": "code",
      "source": [
        "# OPERADORES DE PERTENENCIA:\n",
        "x = \"abcdef\"\n",
        "print(x)\n",
        "print(\"la letra 'a' está en x?:\")\n",
        "print(\"a\" in x)\n",
        "print(\"la letra 'z' NO está en x?:\")\n",
        "print(\"z\" not in x)"
      ],
      "metadata": {
        "colab": {
          "base_uri": "https://localhost:8080/"
        },
        "id": "dAE4PA9Rmj4M",
        "outputId": "305b65dd-5328-4567-b87c-5121fb7f9d8f"
      },
      "execution_count": null,
      "outputs": [
        {
          "output_type": "stream",
          "name": "stdout",
          "text": [
            "abcdef\n",
            "la letra 'a' está en x?:\n",
            "True\n",
            "la letra 'z' NO está en x?:\n",
            "True\n"
          ]
        }
      ]
    },
    {
      "cell_type": "code",
      "source": [
        "# OPERADORES BITWISE\n",
        "print(\" and &:\")\n",
        "print(1 & 1)\n",
        "print(1 & 0)\n",
        "print(0 & 1)\n",
        "print(0 & 0)\n",
        "print(\"or |:\")\n",
        "print(1 | 1)\n",
        "print(\"negación: 1-x\")\n",
        "print(1-1)\n",
        "print(1-0)"
      ],
      "metadata": {
        "colab": {
          "base_uri": "https://localhost:8080/"
        },
        "id": "L0lk0F8PoJen",
        "outputId": "1b7a2e8d-8270-41f7-9256-0669012963b7"
      },
      "execution_count": null,
      "outputs": [
        {
          "output_type": "stream",
          "name": "stdout",
          "text": [
            " and &:\n",
            "1\n",
            "0\n",
            "0\n",
            "0\n",
            "or |:\n",
            "1\n",
            "negación: 1-x\n",
            "0\n",
            "1\n"
          ]
        }
      ]
    },
    {
      "cell_type": "code",
      "source": [
        "print(\"XOR: ^\")\n",
        "print(0^0)\n",
        "print(1^0)"
      ],
      "metadata": {
        "colab": {
          "base_uri": "https://localhost:8080/"
        },
        "id": "HDQmCl-lp-Xm",
        "outputId": "686495dd-aa97-4644-9bb8-496550d904b2"
      },
      "execution_count": null,
      "outputs": [
        {
          "output_type": "stream",
          "name": "stdout",
          "text": [
            "XOR: ^\n",
            "0\n",
            "1\n"
          ]
        }
      ]
    },
    {
      "cell_type": "code",
      "source": [
        "pow(4,1/2)\n",
        "4 ** (1/2)\n",
        "import math\n",
        "math.sqrt(4)\n"
      ],
      "metadata": {
        "colab": {
          "base_uri": "https://localhost:8080/"
        },
        "id": "oMoqA1OTrDOJ",
        "outputId": "6062e3a1-e383-4eea-9de6-765a88e23f5b"
      },
      "execution_count": null,
      "outputs": [
        {
          "output_type": "execute_result",
          "data": {
            "text/plain": [
              "2.0"
            ]
          },
          "metadata": {},
          "execution_count": 49
        }
      ]
    },
    {
      "cell_type": "code",
      "source": [
        "from math import *\n",
        "sqrt(4)"
      ],
      "metadata": {
        "colab": {
          "base_uri": "https://localhost:8080/"
        },
        "id": "sQ4S-tsEr3my",
        "outputId": "a391cbb9-3ca4-4abf-99bd-6f0228d7c346"
      },
      "execution_count": null,
      "outputs": [
        {
          "output_type": "execute_result",
          "data": {
            "text/plain": [
              "2.0"
            ]
          },
          "metadata": {},
          "execution_count": 50
        }
      ]
    },
    {
      "cell_type": "code",
      "source": [
        "x = [\"23\",\"45\", 45]\n",
        "int(x[1])"
      ],
      "metadata": {
        "colab": {
          "base_uri": "https://localhost:8080/"
        },
        "id": "8w1fe5Avttvx",
        "outputId": "4c6f5b36-d44c-42f9-9030-c0ae7908ce68"
      },
      "execution_count": null,
      "outputs": [
        {
          "output_type": "execute_result",
          "data": {
            "text/plain": [
              "45"
            ]
          },
          "metadata": {},
          "execution_count": 54
        }
      ]
    },
    {
      "cell_type": "code",
      "source": [
        "valor = input(\"Ingrese valor: \")"
      ],
      "metadata": {
        "colab": {
          "base_uri": "https://localhost:8080/"
        },
        "id": "O86z8vwgwLOZ",
        "outputId": "85e2bb9a-ee79-465e-8c51-8fce87b4f9a0"
      },
      "execution_count": null,
      "outputs": [
        {
          "name": "stdout",
          "output_type": "stream",
          "text": [
            "Ingrese valor: 23 45\n"
          ]
        }
      ]
    },
    {
      "cell_type": "code",
      "source": [
        "valor = valor.split(\" \")"
      ],
      "metadata": {
        "id": "L9-0AMEsxFW0"
      },
      "execution_count": null,
      "outputs": []
    },
    {
      "cell_type": "code",
      "source": [
        "valor = list(valor)"
      ],
      "metadata": {
        "id": "0nW3yhqtzEa1"
      },
      "execution_count": null,
      "outputs": []
    },
    {
      "cell_type": "code",
      "source": [
        "int(valor[0])"
      ],
      "metadata": {
        "colab": {
          "base_uri": "https://localhost:8080/"
        },
        "id": "CAzM09nqxIk3",
        "outputId": "d995f9d6-2628-4e0e-bd12-debc6362a4a5"
      },
      "execution_count": null,
      "outputs": [
        {
          "output_type": "execute_result",
          "data": {
            "text/plain": [
              "23"
            ]
          },
          "metadata": {},
          "execution_count": 83
        }
      ]
    },
    {
      "cell_type": "code",
      "source": [
        "var1, var2, var3 = input().split()"
      ],
      "metadata": {
        "id": "5ULjR-JHyIve",
        "colab": {
          "base_uri": "https://localhost:8080/"
        },
        "outputId": "9dd76928-bf11-4684-d0ca-c399d4fcdeee"
      },
      "execution_count": null,
      "outputs": [
        {
          "name": "stdout",
          "output_type": "stream",
          "text": [
            "12 3 4\n"
          ]
        }
      ]
    },
    {
      "cell_type": "code",
      "source": [
        "float(var3) + 2"
      ],
      "metadata": {
        "colab": {
          "base_uri": "https://localhost:8080/"
        },
        "id": "ifBFpgpSvAQj",
        "outputId": "f1a33b63-b758-418c-9e40-48169c64aa6b"
      },
      "execution_count": null,
      "outputs": [
        {
          "output_type": "execute_result",
          "data": {
            "text/plain": [
              "6.0"
            ]
          },
          "metadata": {},
          "execution_count": 11
        }
      ]
    },
    {
      "cell_type": "code",
      "source": [
        "print(round(3.141592,1))"
      ],
      "metadata": {
        "colab": {
          "base_uri": "https://localhost:8080/"
        },
        "id": "MLzliT3UyBMN",
        "outputId": "eabb31da-9c98-4eca-ba47-0d54242a5d7a"
      },
      "execution_count": null,
      "outputs": [
        {
          "output_type": "stream",
          "name": "stdout",
          "text": [
            "3.1\n"
          ]
        }
      ]
    },
    {
      "cell_type": "code",
      "source": [
        ""
      ],
      "metadata": {
        "id": "UpF1R5jfzYud"
      },
      "execution_count": null,
      "outputs": []
    }
  ]
}