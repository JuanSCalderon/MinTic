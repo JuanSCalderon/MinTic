{
  "nbformat": 4,
  "nbformat_minor": 0,
  "metadata": {
    "colab": {
      "name": "Modulo4_Grupo11.ipynb",
      "provenance": [],
      "collapsed_sections": [],
      "include_colab_link": true
    },
    "kernelspec": {
      "name": "python3",
      "display_name": "Python 3"
    },
    "language_info": {
      "name": "python"
    }
  },
  "cells": [
    {
      "cell_type": "markdown",
      "metadata": {
        "id": "view-in-github",
        "colab_type": "text"
      },
      "source": [
        "<a href=\"https://colab.research.google.com/github/JuanSCalderon/MinTic/blob/main/Modulo4_Grupo11.ipynb\" target=\"_parent\"><img src=\"https://colab.research.google.com/assets/colab-badge.svg\" alt=\"Open In Colab\"/></a>"
      ]
    },
    {
      "cell_type": "markdown",
      "source": [
        "# Diccionarios."
      ],
      "metadata": {
        "id": "N8wNNowAnK9Q"
      }
    },
    {
      "cell_type": "code",
      "execution_count": null,
      "metadata": {
        "colab": {
          "base_uri": "https://localhost:8080/"
        },
        "id": "N32dHR5jpbs3",
        "outputId": "f560654f-071a-4084-98f5-6d47bcb9b2c9"
      },
      "outputs": [
        {
          "output_type": "stream",
          "name": "stdout",
          "text": [
            "{'Col 1': 22, 'Col 2': 9.8, 'Col 3': 'Hola'}\n"
          ]
        }
      ],
      "source": [
        "A = {'Col 1': 22, 'Col 2': 9.8, 'Col 3': 'Hola'}\n",
        "print(A)"
      ]
    },
    {
      "cell_type": "code",
      "source": [
        "A = {'Col 1': [22, 324, 99, 1000], 'Col 2': [9.8, 5.6, 23.5, 10]}\n",
        "print(A)"
      ],
      "metadata": {
        "colab": {
          "base_uri": "https://localhost:8080/"
        },
        "id": "0dprEpCDrXrH",
        "outputId": "7b8c6f7c-5c2f-41cb-ff4d-f9965d2c5802"
      },
      "execution_count": null,
      "outputs": [
        {
          "output_type": "stream",
          "name": "stdout",
          "text": [
            "{'Col 1': [22, 324, 99, 1000], 'Col 2': [9.8, 5.6, 23.5, 10]}\n"
          ]
        }
      ]
    },
    {
      "cell_type": "code",
      "source": [
        "A = {1: [22, 324, 99, 100], 4.5: [3.4, 4, 8, 2.0]}\n",
        "print(A)"
      ],
      "metadata": {
        "colab": {
          "base_uri": "https://localhost:8080/"
        },
        "id": "Jv7iXcDHtc8Y",
        "outputId": "8da835f6-4875-4270-f875-1a57df6a9442"
      },
      "execution_count": null,
      "outputs": [
        {
          "output_type": "stream",
          "name": "stdout",
          "text": [
            "{1: [22, 324, 99, 100], 4.5: [3.4, 4, 8, 2.0]}\n"
          ]
        }
      ]
    },
    {
      "cell_type": "code",
      "source": [
        "A[4.5][1]"
      ],
      "metadata": {
        "colab": {
          "base_uri": "https://localhost:8080/"
        },
        "id": "w2v4v7KQuJOp",
        "outputId": "c5f258be-e91a-4d36-8bbe-c75d092a700c"
      },
      "execution_count": null,
      "outputs": [
        {
          "output_type": "execute_result",
          "data": {
            "text/plain": [
              "4"
            ]
          },
          "metadata": {},
          "execution_count": 6
        }
      ]
    },
    {
      "cell_type": "markdown",
      "source": [
        "## Agregar valores en diccionario."
      ],
      "metadata": {
        "id": "3zxHKE1XnPR4"
      }
    },
    {
      "cell_type": "code",
      "source": [
        "X = {}"
      ],
      "metadata": {
        "id": "a15TDEqCuVTN"
      },
      "execution_count": null,
      "outputs": []
    },
    {
      "cell_type": "code",
      "source": [
        "X['Col 1'] = 22\n",
        "X['Col 2'] = 9.8\n"
      ],
      "metadata": {
        "id": "lpOLrGCGnXi-"
      },
      "execution_count": null,
      "outputs": []
    },
    {
      "cell_type": "code",
      "source": [
        "print(X)"
      ],
      "metadata": {
        "colab": {
          "base_uri": "https://localhost:8080/"
        },
        "id": "5XlL3jKpnXUw",
        "outputId": "f6c9aec4-450d-4566-8322-47226b3d4359"
      },
      "execution_count": null,
      "outputs": [
        {
          "output_type": "stream",
          "name": "stdout",
          "text": [
            "{'Col 1': 22, 'Col 2': 9.8}\n"
          ]
        }
      ]
    },
    {
      "cell_type": "code",
      "source": [
        " Y = {}\n",
        " Y[1] = [99, 88, 77]"
      ],
      "metadata": {
        "id": "cfxOrPOEnXRN"
      },
      "execution_count": null,
      "outputs": []
    },
    {
      "cell_type": "code",
      "source": [
        "print(Y)"
      ],
      "metadata": {
        "colab": {
          "base_uri": "https://localhost:8080/"
        },
        "id": "4OcFgnaZnXPA",
        "outputId": "4b7e4739-bb93-4b83-89f0-af9d05f3747e"
      },
      "execution_count": null,
      "outputs": [
        {
          "output_type": "stream",
          "name": "stdout",
          "text": [
            "{1: [99, 88, 77]}\n"
          ]
        }
      ]
    },
    {
      "cell_type": "code",
      "source": [
        "A = {}\n",
        "A['Ciclista A'] = [230, 160, 250, 1000]\n",
        "A['Ciclista B'] = [200, 180, 240, 1200]\n",
        "A['Ciclista C'] = [300, 140, 260, 1400]\n",
        "print(A)"
      ],
      "metadata": {
        "colab": {
          "base_uri": "https://localhost:8080/"
        },
        "id": "RS6xmI39ofin",
        "outputId": "dd6e5480-864f-4ce9-b7f4-23b0db28f760"
      },
      "execution_count": null,
      "outputs": [
        {
          "output_type": "stream",
          "name": "stdout",
          "text": [
            "{'Ciclista A': [230, 160, 250, 1000], 'Ciclista B': [200, 180, 240, 1200], 'Ciclista C': [300, 140, 260, 1400]}\n"
          ]
        }
      ]
    },
    {
      "cell_type": "code",
      "source": [
        "A['Ciclista A'][1] > 140"
      ],
      "metadata": {
        "colab": {
          "base_uri": "https://localhost:8080/"
        },
        "id": "j9Btp7-vqfQu",
        "outputId": "0457bce2-0b3f-4481-e3fd-5a251443bf1c"
      },
      "execution_count": null,
      "outputs": [
        {
          "output_type": "execute_result",
          "data": {
            "text/plain": [
              "160"
            ]
          },
          "metadata": {},
          "execution_count": 10
        }
      ]
    },
    {
      "cell_type": "code",
      "source": [
        "N = int(input()) # N=3\n",
        "x = []\n",
        "y = {}\n",
        "var = input('Nombre ciclista: ')\n",
        "x.append(var)\n",
        "reg = input('Valores del registro: ')\n",
        "y[x[0]] = reg\n",
        "var = input('Nombre ciclista: ')\n",
        "x.append(var)\n",
        "reg = input('Valores del registro: ')\n",
        "y[x[1]] = reg\n",
        "var = input('Nombre ciclista: ')\n",
        "x.append(var)\n",
        "reg = input('Valores del registro: ')\n",
        "y[x[2]] = reg"
      ],
      "metadata": {
        "id": "z8jeknrYqwYe"
      },
      "execution_count": null,
      "outputs": []
    },
    {
      "cell_type": "code",
      "source": [
        "N = int(input()) # N=3\n",
        "x = []\n",
        "y = {}\n",
        "for i in range(N):\n",
        "  var = input('Nombre ciclista: ')\n",
        "  x.append(var)\n",
        "  reg = input('Valores del registro: ').split()\n",
        "  y[x[i]] = reg\n",
        "print(y)"
      ],
      "metadata": {
        "colab": {
          "base_uri": "https://localhost:8080/"
        },
        "id": "IzgcVxKQsnIu",
        "outputId": "d8bd2f41-371b-4acd-f315-1abf2d5d485a"
      },
      "execution_count": null,
      "outputs": [
        {
          "output_type": "stream",
          "name": "stdout",
          "text": [
            "2\n",
            "Nombre ciclista: Ciclista A\n",
            "Valores del registro: 240 160 230 1000\n",
            "Nombre ciclista: Ciclista B\n",
            "Valores del registro: 250 180 240 1400\n",
            "{'Ciclista A': ['240', '160', '230', '1000'], 'Ciclista B': ['250', '180', '240', '1400']}\n"
          ]
        }
      ]
    },
    {
      "cell_type": "code",
      "source": [
        "int(y['Ciclista A'][1]) >= 140"
      ],
      "metadata": {
        "colab": {
          "base_uri": "https://localhost:8080/"
        },
        "id": "7BR9c-cDsxsv",
        "outputId": "cce26a5d-20a3-4d5f-b7e6-8fad288e1732"
      },
      "execution_count": null,
      "outputs": [
        {
          "output_type": "execute_result",
          "data": {
            "text/plain": [
              "True"
            ]
          },
          "metadata": {},
          "execution_count": 16
        }
      ]
    },
    {
      "cell_type": "markdown",
      "source": [
        "## update()"
      ],
      "metadata": {
        "id": "SChuUoYCvWux"
      }
    },
    {
      "cell_type": "code",
      "source": [
        "A = {'Clave 1': [1, 2, 3]}\n",
        "B = {'Clave 2': [9, 8, 7]}\n",
        "print(A)\n",
        "A.update(B)\n",
        "print(A)"
      ],
      "metadata": {
        "colab": {
          "base_uri": "https://localhost:8080/"
        },
        "id": "FkL1EpxSt4Rf",
        "outputId": "29cdbba0-fd23-45f8-e5bf-af5be8e14414"
      },
      "execution_count": null,
      "outputs": [
        {
          "output_type": "stream",
          "name": "stdout",
          "text": [
            "{'Clave 1': [1, 2, 3]}\n",
            "{'Clave 1': [1, 2, 3], 'Clave 2': [9, 8, 7]}\n"
          ]
        }
      ]
    },
    {
      "cell_type": "code",
      "source": [
        "# modificar:\n",
        "A['Clave 1'] = [6, 5, 4]\n",
        "A"
      ],
      "metadata": {
        "colab": {
          "base_uri": "https://localhost:8080/"
        },
        "id": "6_xtelLDvyHx",
        "outputId": "e111b97e-f42a-463d-d522-71650baa4d0c"
      },
      "execution_count": null,
      "outputs": [
        {
          "output_type": "execute_result",
          "data": {
            "text/plain": [
              "{'Clave 1': [6, 5, 4], 'Clave 2': [9, 8, 7]}"
            ]
          },
          "metadata": {},
          "execution_count": 20
        }
      ]
    },
    {
      "cell_type": "code",
      "source": [
        "A['Clave 1'][0] = 2\n",
        "A"
      ],
      "metadata": {
        "colab": {
          "base_uri": "https://localhost:8080/"
        },
        "id": "jQsF3aYxw42C",
        "outputId": "86c8c972-707c-4a13-c6bd-b31b5920d222"
      },
      "execution_count": null,
      "outputs": [
        {
          "output_type": "execute_result",
          "data": {
            "text/plain": [
              "{'Clave 1': [2, 5, 4], 'Clave 2': [9, 8, 7]}"
            ]
          },
          "metadata": {},
          "execution_count": 21
        }
      ]
    },
    {
      "cell_type": "markdown",
      "source": [
        "## del()"
      ],
      "metadata": {
        "id": "Uswym3hxwzx8"
      }
    },
    {
      "cell_type": "code",
      "source": [
        "del A['Clave 1']\n",
        "A"
      ],
      "metadata": {
        "colab": {
          "base_uri": "https://localhost:8080/"
        },
        "id": "ScRzmwT2wzVz",
        "outputId": "a1b01990-f879-4bf7-ff1c-9eba2436c4b3"
      },
      "execution_count": null,
      "outputs": [
        {
          "output_type": "execute_result",
          "data": {
            "text/plain": [
              "{'Clave 2': [9, 8, 7]}"
            ]
          },
          "metadata": {},
          "execution_count": 24
        }
      ]
    },
    {
      "cell_type": "code",
      "source": [
        "A['Clave 1'] = [6, 5, 4]\n",
        "len(A['Clave 1'])"
      ],
      "metadata": {
        "colab": {
          "base_uri": "https://localhost:8080/"
        },
        "id": "oZZUIzrQwmGq",
        "outputId": "f285af65-9a2b-4912-8369-55e552ac9142"
      },
      "execution_count": null,
      "outputs": [
        {
          "output_type": "execute_result",
          "data": {
            "text/plain": [
              "3"
            ]
          },
          "metadata": {},
          "execution_count": 27
        }
      ]
    },
    {
      "cell_type": "code",
      "source": [
        "print(A)\n",
        "B = list(A)\n",
        "print(B)\n",
        "print(A)"
      ],
      "metadata": {
        "colab": {
          "base_uri": "https://localhost:8080/"
        },
        "id": "iD0HlfmpxuxF",
        "outputId": "6bb3b2f2-a6cf-4aea-f00f-317c7e245b94"
      },
      "execution_count": null,
      "outputs": [
        {
          "output_type": "stream",
          "name": "stdout",
          "text": [
            "{'Clave 2': [9, 8, 7], 'Clave 1': [6, 5, 4]}\n",
            "['Clave 2', 'Clave 1']\n",
            "{'Clave 2': [9, 8, 7], 'Clave 1': [6, 5, 4]}\n"
          ]
        }
      ]
    },
    {
      "cell_type": "code",
      "source": [
        "print(A)\n",
        "print('Clave 2' in A)\n",
        "print('Clave 3' in A)"
      ],
      "metadata": {
        "colab": {
          "base_uri": "https://localhost:8080/"
        },
        "id": "Z-FudGovyZic",
        "outputId": "4b31fb26-43ac-41ff-be15-772a0b51ac42"
      },
      "execution_count": null,
      "outputs": [
        {
          "output_type": "stream",
          "name": "stdout",
          "text": [
            "{'Clave 2': [9, 8, 7], 'Clave 1': [6, 5, 4]}\n",
            "True\n",
            "False\n"
          ]
        }
      ]
    },
    {
      "cell_type": "code",
      "source": [
        "print(A)\n",
        "6 in A['Clave 1']\n",
        "A['Clave 1'].index(4)"
      ],
      "metadata": {
        "colab": {
          "base_uri": "https://localhost:8080/"
        },
        "id": "DtTIyIpjy9tM",
        "outputId": "8c93bfe2-7e02-42d1-ebdc-09a4e9e8448a"
      },
      "execution_count": null,
      "outputs": [
        {
          "output_type": "stream",
          "name": "stdout",
          "text": [
            "{'Clave 2': [9, 8, 7], 'Clave 1': [6, 5, 4]}\n"
          ]
        },
        {
          "output_type": "execute_result",
          "data": {
            "text/plain": [
              "2"
            ]
          },
          "metadata": {},
          "execution_count": 41
        }
      ]
    },
    {
      "cell_type": "code",
      "source": [
        "('Llave 1', 9)\n",
        "('Llave 2', 10)\n",
        "a = [('Llave 1', 9), ('Llave 2', 10)]\n",
        "print(type(a))\n",
        "a = dict([('Llave 1', 9), ('Llave 2', 10)])\n",
        "print(a)\n",
        "print(type(a))"
      ],
      "metadata": {
        "colab": {
          "base_uri": "https://localhost:8080/"
        },
        "id": "N48SHtXszWD5",
        "outputId": "3785f98c-ccd2-4de3-fea5-84d129ce0360"
      },
      "execution_count": null,
      "outputs": [
        {
          "output_type": "stream",
          "name": "stdout",
          "text": [
            "<class 'list'>\n",
            "{'Llave 1': 9, 'Llave 2': 10}\n",
            "<class 'dict'>\n"
          ]
        }
      ]
    },
    {
      "cell_type": "code",
      "source": [
        "A = dict(Llave_3 = [2, 3, 4], Llave_4 = ['Cadena de caracteres.'])\n",
        "A"
      ],
      "metadata": {
        "colab": {
          "base_uri": "https://localhost:8080/"
        },
        "id": "Q6rK9LAd0Xy5",
        "outputId": "4af9c411-008a-4bf9-ef4d-04637bba6f85"
      },
      "execution_count": null,
      "outputs": [
        {
          "output_type": "execute_result",
          "data": {
            "text/plain": [
              "{'Llave_3': [2, 3, 4], 'Llave_4': ['Cadena de caracteres.']}"
            ]
          },
          "metadata": {},
          "execution_count": 65
        }
      ]
    },
    {
      "cell_type": "code",
      "source": [
        "A['Llave_4'].append('Otra Cadena.')\n",
        "A"
      ],
      "metadata": {
        "colab": {
          "base_uri": "https://localhost:8080/"
        },
        "id": "m0FRq05F1ecL",
        "outputId": "627ab75a-49ad-4b27-a76e-151deb387a6b"
      },
      "execution_count": null,
      "outputs": [
        {
          "output_type": "execute_result",
          "data": {
            "text/plain": [
              "{'Llave_3': [2, 3, 4], 'Llave_4': ['Cadena de caracteres.', 'Otra Cadena.']}"
            ]
          },
          "metadata": {},
          "execution_count": 68
        }
      ]
    },
    {
      "cell_type": "code",
      "source": [
        "A"
      ],
      "metadata": {
        "colab": {
          "base_uri": "https://localhost:8080/"
        },
        "id": "FRG1PLau2YGq",
        "outputId": "44c80322-1742-4c6e-84e7-0833517fe30f"
      },
      "execution_count": null,
      "outputs": [
        {
          "output_type": "execute_result",
          "data": {
            "text/plain": [
              "{'Llave_3': [2, 3, 4], 'Llave_4': ['Cadena de caracteres.', 'Otra Cadena.']}"
            ]
          },
          "metadata": {},
          "execution_count": 69
        }
      ]
    },
    {
      "cell_type": "code",
      "source": [
        "B = A.copy()\n",
        "B = A\n",
        "print(B)\n",
        "print(A)"
      ],
      "metadata": {
        "colab": {
          "base_uri": "https://localhost:8080/"
        },
        "id": "1sigClIW2gLR",
        "outputId": "a99d02eb-c1f8-4b49-a315-24171b17ae5f"
      },
      "execution_count": null,
      "outputs": [
        {
          "output_type": "stream",
          "name": "stdout",
          "text": [
            "{'Llave_3': [2, 3, 4], 'Llave_4': ['Cadena de caracteres.', 'Otra cadena', 'Otra cadena']}\n",
            "{'Llave_3': [2, 3, 4], 'Llave_4': ['Cadena de caracteres.', 'Otra cadena', 'Otra cadena']}\n"
          ]
        }
      ]
    },
    {
      "cell_type": "code",
      "source": [
        "# ejercicio 1:\n",
        "N = abs(int(input(\"Ingrese un valor: \")))\n",
        "\n",
        "# range(3)      -> 0,1,2\n",
        "# range(3+1)    -> 0,1,2,3\n",
        "# range(1, 3+1) ->1,2,3\n",
        "\n",
        "A = {x: x**2 for x in range(1, N+1)}\n",
        "print(A)"
      ],
      "metadata": {
        "colab": {
          "base_uri": "https://localhost:8080/"
        },
        "id": "gdp3GVxn27Pv",
        "outputId": "21861259-b074-4800-a2ef-ef5fe15a4553"
      },
      "execution_count": null,
      "outputs": [
        {
          "output_type": "stream",
          "name": "stdout",
          "text": [
            "Ingrese un valor: -3\n",
            "{}\n"
          ]
        }
      ]
    },
    {
      "cell_type": "markdown",
      "source": [
        "# Matrices"
      ],
      "metadata": {
        "id": "jZWAwYUP4sln"
      }
    },
    {
      "cell_type": "markdown",
      "source": [
        "## crear matriz"
      ],
      "metadata": {
        "id": "WFLFgWt44z2L"
      }
    },
    {
      "cell_type": "code",
      "source": [
        "A = [0]\n",
        "print(A)\n",
        "A.append(2)\n",
        "print(A)\n",
        "A[0] = 5\n",
        "print(A)"
      ],
      "metadata": {
        "id": "EV9TtsSp6Lx_",
        "colab": {
          "base_uri": "https://localhost:8080/"
        },
        "outputId": "91306605-aa62-4176-b650-85b24fb2eb3d"
      },
      "execution_count": null,
      "outputs": [
        {
          "output_type": "stream",
          "name": "stdout",
          "text": [
            "[0]\n",
            "[0, 2]\n",
            "[5, 2]\n"
          ]
        }
      ]
    },
    {
      "cell_type": "code",
      "source": [
        "A = []\n",
        "print(A)\n",
        "A.append([99, 88, 77, 66])\n",
        "print(A)\n",
        "print(A[0])\n",
        "A.append([55, 44, 33, 22])\n",
        "print(A)\n",
        "print(A[1])\n",
        "A.append([11, 234, 567, 890])\n",
        "print(A)"
      ],
      "metadata": {
        "colab": {
          "base_uri": "https://localhost:8080/"
        },
        "id": "mOkTZWXv5FPB",
        "outputId": "a7854bd4-71c4-4ea0-e918-ecd63acda629"
      },
      "execution_count": null,
      "outputs": [
        {
          "output_type": "stream",
          "name": "stdout",
          "text": [
            "[]\n",
            "[[99, 88, 77, 66]]\n",
            "[99, 88, 77, 66]\n",
            "[[99, 88, 77, 66], [55, 44, 33, 22]]\n",
            "[55, 44, 33, 22]\n",
            "[[99, 88, 77, 66], [55, 44, 33, 22], [11, 234, 567, 890]]\n"
          ]
        }
      ]
    },
    {
      "cell_type": "code",
      "source": [
        "print(A)\n",
        "print(A[1])\n",
        "print(A[1][2])"
      ],
      "metadata": {
        "colab": {
          "base_uri": "https://localhost:8080/"
        },
        "id": "buC_Grm35j2x",
        "outputId": "10614cd5-574c-408a-b9f8-a214b4964ab6"
      },
      "execution_count": null,
      "outputs": [
        {
          "output_type": "stream",
          "name": "stdout",
          "text": [
            "[[99, 88, 77, 66], [55, 44, 33, 22], [11, 234, 567, 890]]\n",
            "[55, 44, 33, 22]\n",
            "33\n"
          ]
        }
      ]
    },
    {
      "cell_type": "code",
      "source": [
        "A = [[99, 88, 77, 66], \n",
        "     [55, 44, 33, 22], \n",
        "     [11, 234, 567, 890]]\n",
        "\n",
        "columna = []\n",
        "print(columna)\n",
        "columna.append(A[0][1])\n",
        "print(columna)\n",
        "columna.append(A[1][1])\n",
        "print(columna)\n",
        "columna.append(A[2][1])\n",
        "print(columna)\n",
        "# columna = [A[0][1], A[1][1], A[2][1]]"
      ],
      "metadata": {
        "colab": {
          "base_uri": "https://localhost:8080/"
        },
        "id": "o18QBRQ66W7t",
        "outputId": "f29ade73-604a-481b-b899-41fc7ae1b4ba"
      },
      "execution_count": null,
      "outputs": [
        {
          "output_type": "stream",
          "name": "stdout",
          "text": [
            "[]\n",
            "[88]\n",
            "[88, 44]\n",
            "[88, 44, 234]\n"
          ]
        }
      ]
    },
    {
      "cell_type": "code",
      "source": [
        "columna = []\n",
        "for i in range(3):\n",
        "  print(columna)\n",
        "  columna.append(A[i][1])\n",
        "\n",
        "print(columna)"
      ],
      "metadata": {
        "colab": {
          "base_uri": "https://localhost:8080/"
        },
        "id": "Iys9Un_q8STH",
        "outputId": "e44a83ee-2cfa-492c-bca6-069fd173a83f"
      },
      "execution_count": null,
      "outputs": [
        {
          "output_type": "stream",
          "name": "stdout",
          "text": [
            "[]\n",
            "[88]\n",
            "[88, 44]\n",
            "[88, 44, 234]\n"
          ]
        }
      ]
    },
    {
      "cell_type": "code",
      "source": [
        "A = [[99, 88, 77, 66], \n",
        "     [55, 44, 33, 22], \n",
        "     [11, 234, 567, 890]]\n",
        "\n",
        "print(A[0])\n",
        "print(A[1])\n",
        "print(A[2])\n",
        "print('*******')\n",
        "for fila in A:\n",
        "  print(fila)\n",
        "print('*******')\n",
        "for fila in A:\n",
        "  print(fila[1])"
      ],
      "metadata": {
        "colab": {
          "base_uri": "https://localhost:8080/"
        },
        "id": "qaNUqQ7k-0Og",
        "outputId": "71f4835b-b29a-4a62-833b-33290e312bb9"
      },
      "execution_count": null,
      "outputs": [
        {
          "output_type": "stream",
          "name": "stdout",
          "text": [
            "[99, 88, 77, 66]\n",
            "[55, 44, 33, 22]\n",
            "[11, 234, 567, 890]\n",
            "*******\n",
            "[99, 88, 77, 66]\n",
            "[55, 44, 33, 22]\n",
            "[11, 234, 567, 890]\n",
            "*******\n",
            "88\n",
            "44\n",
            "234\n"
          ]
        }
      ]
    },
    {
      "cell_type": "code",
      "source": [
        "A = [[99, 88, 77, 66], \n",
        "     [55, 44, 33, 22], \n",
        "     [11, 234, 567, 890]]\n",
        "columna = []\n",
        "for fila in A:\n",
        "  columna.append(fila[1])\n",
        "print(columna)"
      ],
      "metadata": {
        "colab": {
          "base_uri": "https://localhost:8080/"
        },
        "id": "NxehvvUU_JDQ",
        "outputId": "c3e530b1-ce1e-45ae-f0e4-cf4d60f16659"
      },
      "execution_count": null,
      "outputs": [
        {
          "output_type": "stream",
          "name": "stdout",
          "text": [
            "[88, 44, 234]\n"
          ]
        }
      ]
    },
    {
      "cell_type": "code",
      "source": [
        "A = [[99, 88, 77, 66], \n",
        "     [55, 44, 33, 22], \n",
        "     [11, 234, 567, 890]]\n",
        "print(A)\n",
        "A[0].append(100)\n",
        "print(A)\n",
        "A[1].append(200)\n",
        "print(A)\n",
        "A[2].append(400)\n",
        "print(A)"
      ],
      "metadata": {
        "colab": {
          "base_uri": "https://localhost:8080/"
        },
        "id": "TECiD57cAPma",
        "outputId": "e505237a-59ab-431a-c41a-a4aff8e25d76"
      },
      "execution_count": null,
      "outputs": [
        {
          "output_type": "stream",
          "name": "stdout",
          "text": [
            "[[99, 88, 77, 66], [55, 44, 33, 22], [11, 234, 567, 890]]\n",
            "[[99, 88, 77, 66, 100], [55, 44, 33, 22], [11, 234, 567, 890]]\n",
            "[[99, 88, 77, 66, 100], [55, 44, 33, 22, 200], [11, 234, 567, 890]]\n",
            "[[99, 88, 77, 66, 100], [55, 44, 33, 22, 200], [11, 234, 567, 890, 400]]\n"
          ]
        }
      ]
    },
    {
      "cell_type": "markdown",
      "source": [
        "## suma de matrices."
      ],
      "metadata": {
        "id": "h36iqNyB6j0W"
      }
    },
    {
      "cell_type": "code",
      "source": [
        "X = [[2, 3, 6],\n",
        "     [4, 1, 5]]\n",
        "Y = [[8, 7, 4],\n",
        "     [6, 9, 5]]\n",
        "R = [[0, 0, 0],\n",
        "     [0, 0, 0]]\n",
        "\n",
        "for i in range(2):\n",
        "  for j in range(3):\n",
        "    R[i][j] = X[i][j] + Y[i][j]"
      ],
      "metadata": {
        "id": "qLdb50M7FP1H"
      },
      "execution_count": null,
      "outputs": []
    },
    {
      "cell_type": "code",
      "source": [
        "print(R)"
      ],
      "metadata": {
        "colab": {
          "base_uri": "https://localhost:8080/"
        },
        "id": "uUE8_KZ373_7",
        "outputId": "7cfce7f5-1055-4ca2-958e-f11209a2fde7"
      },
      "execution_count": null,
      "outputs": [
        {
          "output_type": "stream",
          "name": "stdout",
          "text": [
            "[[10, 10, 10], [10, 10, 10]]\n"
          ]
        }
      ]
    },
    {
      "cell_type": "code",
      "source": [
        "X = [[2, 3, 6],\n",
        "     [4, 1, 5]]\n",
        "Y = [[8, 7, 4],\n",
        "     [6, 9, 5]]\n",
        "R = [[],[]]\n",
        "i=0\n",
        "R[i].append(X[i][0]+Y[i][0])\n",
        "R[i].append(X[i][1]+Y[i][1])\n",
        "R[i].append(X[i][2]+Y[i][2])\n",
        "i=1\n",
        "R[i].append(X[i][0]+Y[i][0])\n",
        "R[i].append(X[i][1]+Y[i][1])\n",
        "R[i].append(X[i][2]+Y[i][2])\n",
        "\n",
        "\"\"\"for i in range(2):\n",
        "  for j in range(3):\n",
        "    R[i][j] = X[i][j] + Y[i][j]\n",
        "\"\"\""
      ],
      "metadata": {
        "colab": {
          "base_uri": "https://localhost:8080/",
          "height": 35
        },
        "id": "T3rOxyAV8lop",
        "outputId": "73cb2ae0-b942-4c1e-ea2d-82b9503a8db6"
      },
      "execution_count": null,
      "outputs": [
        {
          "output_type": "execute_result",
          "data": {
            "text/plain": [
              "'for i in range(2):\\n  for j in range(3):\\n    R[i][j] = X[i][j] + Y[i][j]\\n'"
            ],
            "application/vnd.google.colaboratory.intrinsic+json": {
              "type": "string"
            }
          },
          "metadata": {},
          "execution_count": 19
        }
      ]
    },
    {
      "cell_type": "code",
      "source": [
        "R = [[],[]]\n",
        "for i in range(2):\n",
        "  for j in range(3):\n",
        "    R[i].append(X[i][j]+Y[i][j])\n"
      ],
      "metadata": {
        "id": "tFEIp0V2FheE"
      },
      "execution_count": null,
      "outputs": []
    },
    {
      "cell_type": "code",
      "source": [
        "for j in range(3):\n",
        "  R[i].append(X[i][j]+Y[i][j])\n"
      ],
      "metadata": {
        "id": "FGfpJITFFyy2"
      },
      "execution_count": null,
      "outputs": []
    },
    {
      "cell_type": "code",
      "source": [
        "for fila in R:\n",
        "  print(fila)"
      ],
      "metadata": {
        "colab": {
          "base_uri": "https://localhost:8080/"
        },
        "id": "dbWtuuHPEkUh",
        "outputId": "500dfcef-c4a7-445c-af5a-8ef9c39c1d8d"
      },
      "execution_count": null,
      "outputs": [
        {
          "output_type": "stream",
          "name": "stdout",
          "text": [
            "[10, 10, 10]\n",
            "[10, 10, 10]\n"
          ]
        }
      ]
    },
    {
      "cell_type": "markdown",
      "source": [
        "## Transpuesta de una matriz"
      ],
      "metadata": {
        "id": "N7uDvbKlBZyZ"
      }
    },
    {
      "cell_type": "code",
      "source": [
        "X = [[2, 3, 6],\n",
        "     [4, 1, 5],\n",
        "     [9, 8, 7]]\n",
        "T = [[0, 0, 0],\n",
        "     [0, 0, 0],\n",
        "     [0, 0, 0]]\n",
        "\n",
        "for i in range(3):\n",
        "  for j in range(3):\n",
        "    T[j][i]= X[i][j]"
      ],
      "metadata": {
        "id": "db1sCFHaErZs"
      },
      "execution_count": null,
      "outputs": []
    },
    {
      "cell_type": "code",
      "source": [
        "for fila in X:\n",
        "  print(fila)\n",
        "print(\"****\")\n",
        "for fila in T:\n",
        "  print(fila)"
      ],
      "metadata": {
        "colab": {
          "base_uri": "https://localhost:8080/"
        },
        "id": "qZZXRSL9JqOd",
        "outputId": "8da44d07-27ac-4c7b-e17c-8ea56f6328ca"
      },
      "execution_count": null,
      "outputs": [
        {
          "output_type": "stream",
          "name": "stdout",
          "text": [
            "[2, 3, 6]\n",
            "[4, 1, 5]\n",
            "[9, 8, 7]\n",
            "****\n",
            "[2, 4, 9]\n",
            "[3, 1, 8]\n",
            "[6, 5, 7]\n"
          ]
        }
      ]
    },
    {
      "cell_type": "markdown",
      "source": [
        "## Ejemplo de llenar una matriz cuadrada por usuario."
      ],
      "metadata": {
        "id": "KGaEhT52CZzU"
      }
    },
    {
      "cell_type": "code",
      "source": [
        "n = int(input(\"Ingrese las dimensiones de la matriz: \"))\n",
        "# Definir los espacios de X:\n",
        "X = list(range(n)) # X = [0,1,2]\n",
        "for i in range(n): # X[2] =[0,1,2] \n",
        "  X[i] = list(range(n))\n",
        "# Ingreso de los valores de 'X' por el usuario:\n",
        "for i in range(n):\n",
        "  for j in range(n):\n",
        "    print(\"Fila = \",i,\" Columna = \",j)\n",
        "    X[i][j] = int(input(\"Ingrese valor: \"))\n",
        "print(\"La matriz ingresada por usuario es: \")\n",
        "for filas in X:\n",
        "  print(filas)\n",
        "print(\"******\")\n",
        "print(X)"
      ],
      "metadata": {
        "id": "OyJduKlyJ05B",
        "colab": {
          "base_uri": "https://localhost:8080/"
        },
        "outputId": "b66adc4a-afce-486b-9daa-024cad7f5bde"
      },
      "execution_count": null,
      "outputs": [
        {
          "output_type": "stream",
          "name": "stdout",
          "text": [
            "Ingrese las dimensiones de la matriz: 2\n",
            "Fila =  0  Columna =  0\n",
            "Ingrese valor: 1\n",
            "Fila =  0  Columna =  1\n",
            "Ingrese valor: 2\n",
            "Fila =  1  Columna =  0\n",
            "Ingrese valor: 3\n",
            "Fila =  1  Columna =  1\n",
            "Ingrese valor: 4\n",
            "La matriz ingresada por usuario es: \n",
            "[1, 2]\n",
            "[3, 4]\n",
            "******\n",
            "[[1, 2], [3, 4]]\n"
          ]
        }
      ]
    },
    {
      "cell_type": "code",
      "source": [
        "n = int(input(\"Ingrese las dimensiones de la matriz: \"))\n",
        "X = list(range(n)) # X = [0,1,2]\n",
        "for i in range(n): # X[2] =[0,1,2] \n",
        "  X[i] = list(range(n))"
      ],
      "metadata": {
        "colab": {
          "base_uri": "https://localhost:8080/"
        },
        "id": "GIWCZ7xsDGyv",
        "outputId": "cf8f3c8d-b042-4c37-806c-8a6f8dea2059"
      },
      "execution_count": null,
      "outputs": [
        {
          "name": "stdout",
          "output_type": "stream",
          "text": [
            "Ingrese las dimensiones de la matriz: 3\n"
          ]
        }
      ]
    },
    {
      "cell_type": "code",
      "source": [
        "for filas in X:\n",
        "  print(filas)"
      ],
      "metadata": {
        "colab": {
          "base_uri": "https://localhost:8080/"
        },
        "id": "xtvJ-bcFDKr_",
        "outputId": "580c01b1-9333-43af-a095-9b888528efed"
      },
      "execution_count": null,
      "outputs": [
        {
          "output_type": "stream",
          "name": "stdout",
          "text": [
            "[1, 2]\n",
            "[3, 4]\n"
          ]
        }
      ]
    },
    {
      "cell_type": "markdown",
      "source": [
        "## Multiplicación entre matrices:"
      ],
      "metadata": {
        "id": "pb2lJOh0JOXx"
      }
    },
    {
      "cell_type": "code",
      "source": [
        "A = [[4, 7, 2],\n",
        "     [3, 9, 11]]\n",
        "B = [[2 ,1],\n",
        "     [8, 3],\n",
        "     [5, 2]]\n",
        "R = [[0, 0],\n",
        "     [0, 0]]\n",
        "for i in range(2):\n",
        "  for j in range(2):\n",
        "    for k in range(3):\n",
        "      R[i][j] += A[i][k]*B[k][j]\n",
        "\n",
        "for fila in R:\n",
        "  print(fila)"
      ],
      "metadata": {
        "colab": {
          "base_uri": "https://localhost:8080/"
        },
        "id": "6DujS5X7EvSt",
        "outputId": "793ed5ae-7a7f-42eb-f4e3-daa08e761568"
      },
      "execution_count": null,
      "outputs": [
        {
          "output_type": "stream",
          "name": "stdout",
          "text": [
            "[74, 29]\n",
            "[133, 52]\n"
          ]
        }
      ]
    },
    {
      "cell_type": "markdown",
      "source": [
        "# Numpy"
      ],
      "metadata": {
        "id": "KEFkUuTpO4gV"
      }
    },
    {
      "cell_type": "code",
      "source": [
        "A = [1, 2, 3, 4, 5, 6]\n",
        "print(A)"
      ],
      "metadata": {
        "colab": {
          "base_uri": "https://localhost:8080/"
        },
        "id": "C5J0U3FzGQMH",
        "outputId": "1ab866a1-f693-4a9f-94d2-28d0f3c9e68d"
      },
      "execution_count": null,
      "outputs": [
        {
          "output_type": "stream",
          "name": "stdout",
          "text": [
            "[1, 2, 3, 4, 5, 6]\n"
          ]
        }
      ]
    },
    {
      "cell_type": "code",
      "source": [
        "import numpy as np"
      ],
      "metadata": {
        "id": "xrl8en2iGRBT"
      },
      "execution_count": null,
      "outputs": []
    },
    {
      "cell_type": "code",
      "source": [
        "Anp = np.array([1, 2, 3, 4, 5, 6])\n",
        "print(Anp)\n",
        "print(type(Anp))\n",
        "print(Anp[0])\n",
        "print(Anp[-1])\n",
        "print(Anp[0:3])\n",
        "print(Anp[-3:])"
      ],
      "metadata": {
        "colab": {
          "base_uri": "https://localhost:8080/"
        },
        "id": "IIgFORVdP9mW",
        "outputId": "dfcda2a6-dcfe-458a-c331-222f9cb5334a"
      },
      "execution_count": null,
      "outputs": [
        {
          "output_type": "stream",
          "name": "stdout",
          "text": [
            "[1 2 3 4 5 6]\n",
            "<class 'numpy.ndarray'>\n",
            "1\n",
            "6\n",
            "[1 2 3]\n",
            "[4 5 6]\n"
          ]
        }
      ]
    },
    {
      "cell_type": "markdown",
      "source": [
        "## Suma de matrices con numpy"
      ],
      "metadata": {
        "id": "f3So9c9ASoU6"
      }
    },
    {
      "cell_type": "code",
      "source": [
        "A = np.array([[2, 3, 4],\n",
        "              [8, 5, 1]])\n",
        "B = np.array([[8, 7, 6],\n",
        "              [2, 5, 9]])\n",
        "print(A)\n",
        "print(B)\n",
        "C = A + B\n",
        "print(C)"
      ],
      "metadata": {
        "colab": {
          "base_uri": "https://localhost:8080/"
        },
        "id": "j7DtF2y-QLNT",
        "outputId": "907fae15-4da3-4173-d44e-ce70bedb7dc9"
      },
      "execution_count": null,
      "outputs": [
        {
          "output_type": "stream",
          "name": "stdout",
          "text": [
            "[[2 3 4]\n",
            " [8 5 1]]\n",
            "[[8 7 6]\n",
            " [2 5 9]]\n",
            "[[10 10 10]\n",
            " [10 10 10]]\n"
          ]
        }
      ]
    },
    {
      "cell_type": "markdown",
      "source": [
        "## Multiplicación de matrices en numpy"
      ],
      "metadata": {
        "id": "eoZ4ZnpVTi3e"
      }
    },
    {
      "cell_type": "code",
      "source": [
        "A = np.array([[4, 7, 2],\n",
        "              [3, 9, 11]])\n",
        "B = np.array([[2, 1],\n",
        "              [8, 3],\n",
        "              [5, 2]])\n",
        "print(A)\n",
        "print(B)\n",
        "C = A.dot(B)\n",
        "print(C)"
      ],
      "metadata": {
        "colab": {
          "base_uri": "https://localhost:8080/"
        },
        "id": "KDOej2uETE2L",
        "outputId": "a456158c-0c0d-40f6-d58a-65061de3e5c9"
      },
      "execution_count": null,
      "outputs": [
        {
          "output_type": "stream",
          "name": "stdout",
          "text": [
            "[[ 4  7  2]\n",
            " [ 3  9 11]]\n",
            "[[2 1]\n",
            " [8 3]\n",
            " [5 2]]\n",
            "[[ 74  29]\n",
            " [133  52]]\n"
          ]
        }
      ]
    },
    {
      "cell_type": "markdown",
      "source": [
        "## Transpuesta en numpy"
      ],
      "metadata": {
        "id": "c5_ExyX_Unyr"
      }
    },
    {
      "cell_type": "code",
      "source": [
        "A = np.array([[4, 7, 2],\n",
        "              [3, 9, 11]])\n",
        "print(A)\n",
        "C = A.transpose()\n",
        "print(C)"
      ],
      "metadata": {
        "colab": {
          "base_uri": "https://localhost:8080/"
        },
        "id": "R7A02XFkT-kU",
        "outputId": "a741621e-e9cb-491b-e7b5-03e292b4987a"
      },
      "execution_count": null,
      "outputs": [
        {
          "output_type": "stream",
          "name": "stdout",
          "text": [
            "[[ 4  7  2]\n",
            " [ 3  9 11]]\n",
            "[[ 4  3]\n",
            " [ 7  9]\n",
            " [ 2 11]]\n"
          ]
        }
      ]
    },
    {
      "cell_type": "markdown",
      "source": [
        "## Acceso"
      ],
      "metadata": {
        "id": "Cph2og8VVN9R"
      }
    },
    {
      "cell_type": "code",
      "source": [
        "A = np.array([[99, 88, 77, 66], \n",
        "              [55, 44, 33, 22], \n",
        "              [11, 234, 567, 890]])\n",
        "print(A)\n",
        "print(A[0])\n",
        "print(A[1][1])"
      ],
      "metadata": {
        "colab": {
          "base_uri": "https://localhost:8080/"
        },
        "id": "k0TvU-HKU4a9",
        "outputId": "63030d27-7095-4297-c758-ade165bd28a0"
      },
      "execution_count": null,
      "outputs": [
        {
          "output_type": "stream",
          "name": "stdout",
          "text": [
            "[[ 99  88  77  66]\n",
            " [ 55  44  33  22]\n",
            " [ 11 234 567 890]]\n",
            "[99 88 77 66]\n",
            "44\n"
          ]
        }
      ]
    },
    {
      "cell_type": "code",
      "source": [
        "# Acceso a columnas:\n",
        "print(A)\n",
        "print(A[0][2])\n",
        "print(A[0, 2])\n",
        "print(A[:,1])\n",
        "print(A[:2,1])\n",
        "print(A[0:2,1:3])"
      ],
      "metadata": {
        "colab": {
          "base_uri": "https://localhost:8080/"
        },
        "id": "W08ybHDdVRaY",
        "outputId": "dabef05c-341b-4441-ca2d-a1d38a583d98"
      },
      "execution_count": null,
      "outputs": [
        {
          "output_type": "stream",
          "name": "stdout",
          "text": [
            "[[ 99  88  77  66]\n",
            " [ 55  44  33  22]\n",
            " [ 11 234 567 890]]\n",
            "77\n",
            "77\n",
            "[ 88  44 234]\n",
            "[88 44]\n",
            "[[88 77]\n",
            " [44 33]]\n"
          ]
        }
      ]
    },
    {
      "cell_type": "code",
      "source": [
        "C = A[0:2,1:3]\n",
        "print(C)\n",
        "D = C.transpose()\n",
        "print(D)"
      ],
      "metadata": {
        "colab": {
          "base_uri": "https://localhost:8080/"
        },
        "id": "nb0EMiP5WgAL",
        "outputId": "fc0eccdd-1248-4a0c-8094-899805dfc6bd"
      },
      "execution_count": null,
      "outputs": [
        {
          "output_type": "stream",
          "name": "stdout",
          "text": [
            "[[88 77]\n",
            " [44 33]]\n",
            "[[88 44]\n",
            " [77 33]]\n"
          ]
        }
      ]
    },
    {
      "cell_type": "code",
      "source": [
        "print(A[:,1])\n",
        "C = np.array(A[:,1].transpose())\n",
        "print(C)"
      ],
      "metadata": {
        "colab": {
          "base_uri": "https://localhost:8080/"
        },
        "id": "8QEHkEOxYNN4",
        "outputId": "a9c509b1-2ef4-4eaf-c91f-009ff537378c"
      },
      "execution_count": null,
      "outputs": [
        {
          "output_type": "stream",
          "name": "stdout",
          "text": [
            "[ 88  44 234]\n",
            "[ 88  44 234]\n"
          ]
        }
      ]
    },
    {
      "cell_type": "markdown",
      "source": [
        "# Funciones."
      ],
      "metadata": {
        "id": "f3BsbKMxyu5P"
      }
    },
    {
      "cell_type": "code",
      "source": [
        "print(\"Palabra....\")\n",
        "A = int(\"2\")"
      ],
      "metadata": {
        "id": "aOKimgKIYfFV",
        "colab": {
          "base_uri": "https://localhost:8080/"
        },
        "outputId": "a95d0399-92ed-47a9-ca9d-cec40dc30b75"
      },
      "execution_count": null,
      "outputs": [
        {
          "output_type": "stream",
          "name": "stdout",
          "text": [
            "Palabra....\n"
          ]
        }
      ]
    },
    {
      "cell_type": "code",
      "source": [
        "# Declaración de la función:\n",
        "def sumarn(a=0, b=0):  #p1 = A, p2 = B\n",
        "  return a + b\n",
        "\n",
        "A = int(input(\"Ingrese 1mer valor: \"))\n",
        "B = int(input(\"Ingrese 2do valor: \"))\n",
        "\n",
        "# Llamado a la función:\n",
        "R = sumarn(A, B)\n",
        "print(R)\n",
        "print(sumarn(4, 6))\n",
        "print(sumarn())\n",
        "print(sumarn(9))"
      ],
      "metadata": {
        "colab": {
          "base_uri": "https://localhost:8080/"
        },
        "id": "olBXfVI8zas6",
        "outputId": "4b76291d-34d7-46c7-8728-94838464b634"
      },
      "execution_count": null,
      "outputs": [
        {
          "output_type": "stream",
          "name": "stdout",
          "text": [
            "Ingrese 1mer valor: 5\n",
            "Ingrese 2do valor: 2\n",
            "7\n",
            "10\n",
            "0\n",
            "9\n"
          ]
        }
      ]
    },
    {
      "cell_type": "code",
      "source": [
        "def bienve(p1):\n",
        "  print(\"Bienvenido señor\", p1)\n",
        "\n",
        "nombre = input(\"Ingrese su nombre: \")\n",
        "\n",
        "bienve(nombre)"
      ],
      "metadata": {
        "colab": {
          "base_uri": "https://localhost:8080/"
        },
        "id": "c5vUM3Uyz4kP",
        "outputId": "ee8a2e4c-7fee-4041-ee8e-aa0d746dba35"
      },
      "execution_count": null,
      "outputs": [
        {
          "output_type": "stream",
          "name": "stdout",
          "text": [
            "Ingrese su nombre: Cesar\n",
            "Bienvenido señor Cesar\n"
          ]
        }
      ]
    },
    {
      "cell_type": "markdown",
      "source": [
        "# Reto 4"
      ],
      "metadata": {
        "id": "95PLp49M5iUp"
      }
    },
    {
      "cell_type": "code",
      "source": [
        "def leer_datos():\n",
        "  n , k = [int(x) for x in input().split()]\n",
        "  b = [int(x) for x in input().split()]\n",
        "  return n, k, b\n",
        "\n",
        "N, K, B = leer_datos()\n",
        "\n",
        "print(B)"
      ],
      "metadata": {
        "colab": {
          "base_uri": "https://localhost:8080/"
        },
        "id": "NqOX-HAh5U3-",
        "outputId": "9a380060-b335-41fd-d693-17f300c474c6"
      },
      "execution_count": null,
      "outputs": [
        {
          "output_type": "stream",
          "name": "stdout",
          "text": [
            "5 1\n",
            "1 2 3 1 2\n",
            "[1, 2, 3, 1, 2]\n"
          ]
        }
      ]
    },
    {
      "cell_type": "code",
      "source": [
        "dicci = {1: 0, 2: 1, 3: 2}"
      ],
      "metadata": {
        "id": "Lg4G4m9E6Et9"
      },
      "execution_count": null,
      "outputs": []
    },
    {
      "cell_type": "code",
      "source": [
        ""
      ],
      "metadata": {
        "id": "Qp-t2dJd6aZ5"
      },
      "execution_count": null,
      "outputs": []
    }
  ]
}