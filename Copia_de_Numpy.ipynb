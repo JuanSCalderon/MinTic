{
  "nbformat": 4,
  "nbformat_minor": 0,
  "metadata": {
    "colab": {
      "name": "Copia de Numpy.ipynb",
      "provenance": [],
      "collapsed_sections": [],
      "include_colab_link": true
    },
    "kernelspec": {
      "name": "python3",
      "display_name": "Python 3"
    },
    "language_info": {
      "name": "python"
    }
  },
  "cells": [
    {
      "cell_type": "markdown",
      "metadata": {
        "id": "view-in-github",
        "colab_type": "text"
      },
      "source": [
        "<a href=\"https://colab.research.google.com/github/JuanSCalderon/MinTic/blob/main/Copia_de_Numpy.ipynb\" target=\"_parent\"><img src=\"https://colab.research.google.com/assets/colab-badge.svg\" alt=\"Open In Colab\"/></a>"
      ]
    },
    {
      "cell_type": "markdown",
      "source": [
        "## Introducción Numpy"
      ],
      "metadata": {
        "id": "fF5ljsY0tp0Z"
      }
    },
    {
      "cell_type": "code",
      "source": [
        "listapy = [[5,7,8], [1,2,3]]\n",
        "print(listapy)\n"
      ],
      "metadata": {
        "colab": {
          "base_uri": "https://localhost:8080/"
        },
        "id": "ZdDKvd1xMbrZ",
        "outputId": "f1fb210f-0b76-454f-dac0-282cd503a856"
      },
      "execution_count": null,
      "outputs": [
        {
          "output_type": "stream",
          "name": "stdout",
          "text": [
            "[[5, 7, 8], [1, 2, 3]]\n"
          ]
        }
      ]
    },
    {
      "cell_type": "code",
      "execution_count": null,
      "metadata": {
        "colab": {
          "base_uri": "https://localhost:8080/"
        },
        "id": "gUPXHX1wo9EG",
        "outputId": "502dfc1a-e9e3-4cba-8f3c-bab652a520a7"
      },
      "outputs": [
        {
          "output_type": "stream",
          "name": "stdout",
          "text": [
            "[5 7 8]\n",
            "\n",
            "\n",
            "[5, 7, 8]\n"
          ]
        }
      ],
      "source": [
        "import numpy as np\n",
        "\n",
        "listapy = [5,7,8]\n",
        "lista = np.array([5,7,8])\n",
        "print(lista)\n",
        "print(\"\\n\")\n",
        "print(listapy)\n"
      ]
    },
    {
      "cell_type": "code",
      "source": [
        "matrizPy = [[1,2,3], [7,8,9]]\n",
        "print(matrizPy)"
      ],
      "metadata": {
        "colab": {
          "base_uri": "https://localhost:8080/"
        },
        "id": "Rid7AJxd1mcY",
        "outputId": "16cc856d-ca5e-4e19-c1cf-0d5a8bea23a0"
      },
      "execution_count": null,
      "outputs": [
        {
          "output_type": "stream",
          "name": "stdout",
          "text": [
            "[[1, 2, 3], [7, 8, 9]]\n"
          ]
        }
      ]
    },
    {
      "cell_type": "code",
      "source": [
        "matrizNp = np.array([[1,2,3], [7,8,9]])\n",
        "print(matrizNp)\n"
      ],
      "metadata": {
        "colab": {
          "base_uri": "https://localhost:8080/"
        },
        "id": "ces6MQOy0nVo",
        "outputId": "87a346cd-c8ff-46b0-8c14-5c18a3ba54e2"
      },
      "execution_count": null,
      "outputs": [
        {
          "output_type": "stream",
          "name": "stdout",
          "text": [
            "[[1 2 3]\n",
            " [7 8 9]]\n"
          ]
        }
      ]
    },
    {
      "cell_type": "markdown",
      "source": [
        "##Matrices \"Vacias\""
      ],
      "metadata": {
        "id": "QGis41D_pP4R"
      }
    },
    {
      "cell_type": "code",
      "source": [
        "matriz = [[\"Johan\", \"Paula\", \"Marc\", \"David\"], [14,21,23, 15], [\"Portección\", \"Porvenir\", \"ColPensiones\", \"Porvenir\"]]\n",
        "for i in range(0,3,1): #0,1,2 asignación: i = valor inicial, i += 1, if(i < valor final) i-> Filas\n",
        "  for j in range(0,4,1): #0,1,2,3 -> J -> Columnas\n",
        "    matriz[i][j] = 1\n",
        "\n",
        "print(matriz)"
      ],
      "metadata": {
        "colab": {
          "base_uri": "https://localhost:8080/"
        },
        "id": "Cm3fviCYO4Mk",
        "outputId": "d3ed66fb-7c39-447f-aa74-a7b6899ee066"
      },
      "execution_count": null,
      "outputs": [
        {
          "output_type": "stream",
          "name": "stdout",
          "text": [
            "[[1, 1, 1, 1], [1, 1, 1, 1], [1, 1, 1, 1]]\n"
          ]
        }
      ]
    },
    {
      "cell_type": "code",
      "source": [
        "# Formas de inicializar las matrices para su posterior seteo, o asignación\n",
        "\n",
        "# Crear una matriz de unos - 3 filas 4 columnas\n",
        "unos = np.ones((3,4))\n",
        "print(unos)"
      ],
      "metadata": {
        "colab": {
          "base_uri": "https://localhost:8080/"
        },
        "id": "9OYRbxpZpAWC",
        "outputId": "23c335f1-5e92-416f-9a44-5363f661ac78"
      },
      "execution_count": null,
      "outputs": [
        {
          "output_type": "stream",
          "name": "stdout",
          "text": [
            "[[1. 1. 1. 1.]\n",
            " [1. 1. 1. 1.]\n",
            " [1. 1. 1. 1.]]\n"
          ]
        }
      ]
    },
    {
      "cell_type": "code",
      "source": [
        "# Crear una matriz de ceros - 3 filas 4 columnas\n",
        "ceros = np.zeros((3,4))\n",
        "print(ceros)"
      ],
      "metadata": {
        "colab": {
          "base_uri": "https://localhost:8080/"
        },
        "id": "KReVdvyxpcpY",
        "outputId": "ee4e15e1-8473-4169-f41d-d0fa3a22fe03"
      },
      "execution_count": null,
      "outputs": [
        {
          "output_type": "stream",
          "name": "stdout",
          "text": [
            "[[0. 0. 0. 0. 0. 0. 0. 0. 0. 0.]\n",
            " [0. 0. 0. 0. 0. 0. 0. 0. 0. 0.]\n",
            " [0. 0. 0. 0. 0. 0. 0. 0. 0. 0.]\n",
            " [0. 0. 0. 0. 0. 0. 0. 0. 0. 0.]\n",
            " [0. 0. 0. 0. 0. 0. 0. 0. 0. 0.]\n",
            " [0. 0. 0. 0. 0. 0. 0. 0. 0. 0.]\n",
            " [0. 0. 0. 0. 0. 0. 0. 0. 0. 0.]\n",
            " [0. 0. 0. 0. 0. 0. 0. 0. 0. 0.]\n",
            " [0. 0. 0. 0. 0. 0. 0. 0. 0. 0.]\n",
            " [0. 0. 0. 0. 0. 0. 0. 0. 0. 0.]]\n"
          ]
        }
      ]
    },
    {
      "cell_type": "code",
      "source": [
        "# Crear una matriz con valores aleatorios\n",
        "aleatorios = np.random.random((2,2))\n",
        "print(aleatorios)"
      ],
      "metadata": {
        "colab": {
          "base_uri": "https://localhost:8080/"
        },
        "id": "9wfFRJespfI-",
        "outputId": "e6b0ce4f-9899-466d-abe9-1990c72fb1ab"
      },
      "execution_count": null,
      "outputs": [
        {
          "output_type": "stream",
          "name": "stdout",
          "text": [
            "[[0.43037655 0.53016528]\n",
            " [0.16327291 0.17279816]]\n"
          ]
        }
      ]
    },
    {
      "cell_type": "code",
      "source": [
        "# Crear una matriz vacía\n",
        "vacia = np.empty((3,2))\n",
        "print(vacia)"
      ],
      "metadata": {
        "colab": {
          "base_uri": "https://localhost:8080/"
        },
        "id": "KeRXibnzpjOi",
        "outputId": "a722bb8e-acdf-4ca1-8c08-3a5568374e5e"
      },
      "execution_count": null,
      "outputs": [
        {
          "output_type": "stream",
          "name": "stdout",
          "text": [
            "[[3.38837493e-316 0.00000000e+000]\n",
            " [0.00000000e+000 0.00000000e+000]\n",
            " [0.00000000e+000 0.00000000e+000]]\n"
          ]
        }
      ]
    },
    {
      "cell_type": "code",
      "source": [
        "# Crear una matriz con un solo valor\n",
        "full = np.full((10,10),8)\n",
        "print(full)"
      ],
      "metadata": {
        "colab": {
          "base_uri": "https://localhost:8080/"
        },
        "id": "hQdp1dfiprU5",
        "outputId": "d31f6332-0b9b-44a1-8d20-33b96977fb64"
      },
      "execution_count": null,
      "outputs": [
        {
          "output_type": "stream",
          "name": "stdout",
          "text": [
            "[[8 8 8 8 8 8 8 8 8 8]\n",
            " [8 8 8 8 8 8 8 8 8 8]\n",
            " [8 8 8 8 8 8 8 8 8 8]\n",
            " [8 8 8 8 8 8 8 8 8 8]\n",
            " [8 8 8 8 8 8 8 8 8 8]\n",
            " [8 8 8 8 8 8 8 8 8 8]\n",
            " [8 8 8 8 8 8 8 8 8 8]\n",
            " [8 8 8 8 8 8 8 8 8 8]\n",
            " [8 8 8 8 8 8 8 8 8 8]\n",
            " [8 8 8 8 8 8 8 8 8 8]]\n"
          ]
        }
      ]
    },
    {
      "cell_type": "code",
      "source": [
        "# Crear una matriz con valores espaciados uniformemente\n",
        "espacio1 = np.arange(0,30,5)\n",
        "print(espacio1)"
      ],
      "metadata": {
        "colab": {
          "base_uri": "https://localhost:8080/"
        },
        "id": "-eoKG6mbpsys",
        "outputId": "8f2080e1-10ae-4f6c-977d-e23f73947288"
      },
      "execution_count": null,
      "outputs": [
        {
          "output_type": "stream",
          "name": "stdout",
          "text": [
            "[ 0  5 10 15 20 25]\n"
          ]
        }
      ]
    },
    {
      "cell_type": "code",
      "source": [
        "# 5 valores entre 0 y 2 distribuidos uniformemente\n",
        "espacio2 = np.linspace(0,2,5)\n",
        "print(espacio2)"
      ],
      "metadata": {
        "colab": {
          "base_uri": "https://localhost:8080/"
        },
        "id": "bPrTGVu6pvDF",
        "outputId": "2c02f731-3c43-4ef2-c6e9-07b30a03399e"
      },
      "execution_count": null,
      "outputs": [
        {
          "output_type": "stream",
          "name": "stdout",
          "text": [
            "[ 0.   2.5  5.   7.5 10. ]\n"
          ]
        }
      ]
    },
    {
      "cell_type": "code",
      "source": [
        "# Crear una matriz identidad (Algebra lineal)\n",
        "identidad1 = np.eye(4,5)\n",
        "print(identidad1)\n",
        "print(\"\")\n",
        "identidad2 = np.identity(10)\n",
        "print(identidad2)"
      ],
      "metadata": {
        "colab": {
          "base_uri": "https://localhost:8080/"
        },
        "id": "YzFV63WDpxM3",
        "outputId": "f8c803f5-82a6-46ee-e73a-1ed9c672ea09"
      },
      "execution_count": null,
      "outputs": [
        {
          "output_type": "stream",
          "name": "stdout",
          "text": [
            "[[1. 0. 0. 0. 0.]\n",
            " [0. 1. 0. 0. 0.]\n",
            " [0. 0. 1. 0. 0.]\n",
            " [0. 0. 0. 1. 0.]]\n",
            "\n",
            "[[1. 0. 0. 0. 0. 0. 0. 0. 0. 0.]\n",
            " [0. 1. 0. 0. 0. 0. 0. 0. 0. 0.]\n",
            " [0. 0. 1. 0. 0. 0. 0. 0. 0. 0.]\n",
            " [0. 0. 0. 1. 0. 0. 0. 0. 0. 0.]\n",
            " [0. 0. 0. 0. 1. 0. 0. 0. 0. 0.]\n",
            " [0. 0. 0. 0. 0. 1. 0. 0. 0. 0.]\n",
            " [0. 0. 0. 0. 0. 0. 1. 0. 0. 0.]\n",
            " [0. 0. 0. 0. 0. 0. 0. 1. 0. 0.]\n",
            " [0. 0. 0. 0. 0. 0. 0. 0. 1. 0.]\n",
            " [0. 0. 0. 0. 0. 0. 0. 0. 0. 1.]]\n"
          ]
        }
      ]
    },
    {
      "cell_type": "code",
      "source": [
        "print(type(identidad1[1][1]))"
      ],
      "metadata": {
        "colab": {
          "base_uri": "https://localhost:8080/"
        },
        "id": "MWvXJSat6G6J",
        "outputId": "15b85bad-e6c2-43bf-81e9-fb5a1122ac7a"
      },
      "execution_count": null,
      "outputs": [
        {
          "output_type": "stream",
          "name": "stdout",
          "text": [
            "<class 'numpy.float64'>\n"
          ]
        }
      ]
    },
    {
      "cell_type": "markdown",
      "source": [
        "##Información sobre las matrices"
      ],
      "metadata": {
        "id": "w5YdPSbzp_4G"
      }
    },
    {
      "cell_type": "code",
      "source": [
        "# Conocer las dimensiones de una matriz\n",
        "a = np.array([(1,2,3),(4,5,6)])\n",
        "print(a)\n",
        "print(a.ndim)"
      ],
      "metadata": {
        "colab": {
          "base_uri": "https://localhost:8080/"
        },
        "id": "dqUFIiD6p72i",
        "outputId": "18b1a4a5-5bc0-4838-df89-2398496b3b26"
      },
      "execution_count": null,
      "outputs": [
        {
          "output_type": "stream",
          "name": "stdout",
          "text": [
            "[[1 2 3]\n",
            " [4 5 6]]\n",
            "2\n"
          ]
        }
      ]
    },
    {
      "cell_type": "code",
      "source": [
        "# Conocer el tipo de los datos\n",
        "a = np.array([(1,2,3)])\n",
        "print(a.dtype)"
      ],
      "metadata": {
        "colab": {
          "base_uri": "https://localhost:8080/"
        },
        "id": "E2uujdunqCue",
        "outputId": "b4ff1790-839e-4596-a2a7-cfff90b399ba"
      },
      "execution_count": null,
      "outputs": [
        {
          "output_type": "stream",
          "name": "stdout",
          "text": [
            "int64\n"
          ]
        }
      ]
    },
    {
      "cell_type": "code",
      "source": [
        "# Conocer el tamaño y forma de la matriz\n",
        "a = np.array([(1,2,3,4,5,6)])\n",
        "print(a.size)\n",
        "print(a.shape)"
      ],
      "metadata": {
        "colab": {
          "base_uri": "https://localhost:8080/"
        },
        "id": "GbxWhsU_qEdK",
        "outputId": "3597d93b-73b6-4706-c153-c4e99e7200e2"
      },
      "execution_count": null,
      "outputs": [
        {
          "output_type": "stream",
          "name": "stdout",
          "text": [
            "6\n",
            "(1, 6)\n"
          ]
        }
      ]
    },
    {
      "cell_type": "code",
      "source": [
        "# Cambio de forma de una matriz (valor columna a fila, valor de fila a columna)\n",
        "a = np.array([(8,9,10),(11,12,13)])\n",
        "print(a)\n",
        "a=a.reshape(3,2)\n",
        "print(a)"
      ],
      "metadata": {
        "colab": {
          "base_uri": "https://localhost:8080/"
        },
        "id": "zwtaD1uRqGGM",
        "outputId": "6be24543-bb90-442e-b88a-ff70ea380ac9"
      },
      "execution_count": null,
      "outputs": [
        {
          "output_type": "stream",
          "name": "stdout",
          "text": [
            "[[ 8  9 10]\n",
            " [11 12 13]]\n",
            "[[ 8  9]\n",
            " [10 11]\n",
            " [12 13]]\n"
          ]
        }
      ]
    },
    {
      "cell_type": "code",
      "source": [
        "# Extraer un solo valor de la matriz - el valor ubicado en la fila 0 columna 2\n",
        "a = np.array([(1,2,3,4),(3,4,5,6)])\n",
        "print(a)\n",
        "print(a[0,2])"
      ],
      "metadata": {
        "colab": {
          "base_uri": "https://localhost:8080/"
        },
        "id": "raAe_C1rqTjB",
        "outputId": "df0a9cfc-1acf-435a-856b-b54dee56bf58"
      },
      "execution_count": null,
      "outputs": [
        {
          "output_type": "stream",
          "name": "stdout",
          "text": [
            "[[1 2 3 4]\n",
            " [3 4 5 6]]\n",
            "3\n"
          ]
        }
      ]
    },
    {
      "cell_type": "markdown",
      "source": [
        "También podemos referenciar múltiples elementos de un arreglo NumPy usando los dos puntos. Por ejemplo, el índice [2:] selecciona cada elemento desde el índice 2 en adelante. El índice [:3] selecciona cada elemento hasta el índice 3 excluido. El índice [2:4] retorna cada elemento desde el índice 2 al índice 4, excluyendo este último. "
      ],
      "metadata": {
        "id": "sM8Le-AVsSbu"
      }
    },
    {
      "cell_type": "code",
      "source": [
        "#                 0 1 2 3 4 5 6 7 8 9\n",
        "lista = np.array([1,2,3,4,5,6,7,8,9,0])\n",
        "print(lista)"
      ],
      "metadata": {
        "colab": {
          "base_uri": "https://localhost:8080/"
        },
        "id": "uL90yOOssUf-",
        "outputId": "d49f3edd-6892-4f71-a84d-ed7a99c934d5"
      },
      "execution_count": null,
      "outputs": [
        {
          "output_type": "stream",
          "name": "stdout",
          "text": [
            "[1 2 3 4 5 6 7 8 9 0]\n"
          ]
        }
      ]
    },
    {
      "cell_type": "code",
      "source": [
        "print(lista[:])"
      ],
      "metadata": {
        "colab": {
          "base_uri": "https://localhost:8080/"
        },
        "id": "1cIGpSoo9nWi",
        "outputId": "693f6930-f841-49c8-a088-0895768e0388"
      },
      "execution_count": null,
      "outputs": [
        {
          "output_type": "stream",
          "name": "stdout",
          "text": [
            "[1 2 3 4 5 6 7 8 9 0]\n"
          ]
        }
      ]
    },
    {
      "cell_type": "code",
      "source": [
        "print(lista[2:])"
      ],
      "metadata": {
        "colab": {
          "base_uri": "https://localhost:8080/"
        },
        "id": "35rmMoqcsbud",
        "outputId": "4f7daff8-986e-4111-ef00-3e13b636e4f9"
      },
      "execution_count": null,
      "outputs": [
        {
          "output_type": "stream",
          "name": "stdout",
          "text": [
            "[3 4 5 6 7 8 9 0]\n"
          ]
        }
      ]
    },
    {
      "cell_type": "code",
      "source": [
        "print(lista[:3])"
      ],
      "metadata": {
        "colab": {
          "base_uri": "https://localhost:8080/"
        },
        "id": "lDb4GeOdsgan",
        "outputId": "8af588b5-761e-4667-c854-1957b4f4c3d4"
      },
      "execution_count": null,
      "outputs": [
        {
          "output_type": "stream",
          "name": "stdout",
          "text": [
            "[1 2 3]\n"
          ]
        }
      ]
    },
    {
      "cell_type": "code",
      "source": [
        "print(lista[2:4]) #Desde el valor inicial, hasta < valor final (Uno menos)  Rango -> valor inicial <= lista < valor final"
      ],
      "metadata": {
        "colab": {
          "base_uri": "https://localhost:8080/"
        },
        "id": "Jfm9P8zNsj15",
        "outputId": "3b52199c-7041-419f-f1ce-45f3c6bd240d"
      },
      "execution_count": null,
      "outputs": [
        {
          "output_type": "stream",
          "name": "stdout",
          "text": [
            "[3 4]\n"
          ]
        }
      ]
    },
    {
      "cell_type": "code",
      "source": [
        "# Extraer los valores de todas las filas ubicados en la columna 3 \n",
        "a=np.array([(1,2,3,4),(3,4,5,6)])\n",
        "print(a)\n",
        "print(a[0:,2]) #[0][2]\n",
        "#               [1][2] "
      ],
      "metadata": {
        "colab": {
          "base_uri": "https://localhost:8080/"
        },
        "id": "avBI-LxNqalX",
        "outputId": "ae722093-b0e4-4dea-f13c-6e1811098cbb"
      },
      "execution_count": null,
      "outputs": [
        {
          "output_type": "stream",
          "name": "stdout",
          "text": [
            "[[1 2 3 4]\n",
            " [3 4 5 6]]\n",
            "[3 5]\n"
          ]
        }
      ]
    },
    {
      "cell_type": "markdown",
      "source": [
        "##Operaciones matematicas"
      ],
      "metadata": {
        "id": "4gSjpTrjqlgu"
      }
    },
    {
      "cell_type": "code",
      "source": [
        "# Encontrar el mínimo, máximo y la suma\n",
        "a= np.array([2,4,8])\n",
        "print(a.min())\n",
        "print(a.max())\n",
        "print(a.sum())"
      ],
      "metadata": {
        "colab": {
          "base_uri": "https://localhost:8080/"
        },
        "id": "dK6djbNpqi7D",
        "outputId": "6f27ed03-cf70-4d79-b00e-2608de2ae6db"
      },
      "execution_count": null,
      "outputs": [
        {
          "output_type": "stream",
          "name": "stdout",
          "text": [
            "2\n",
            "8\n",
            "14\n"
          ]
        }
      ]
    },
    {
      "cell_type": "code",
      "source": [
        "# Calcular la raíz cuadrada y la desviación estándar\n",
        "a=np.array([(1,2,3),(3,4,5)])\n",
        "print(np.sqrt(a))\n",
        "print(np.std(a))"
      ],
      "metadata": {
        "colab": {
          "base_uri": "https://localhost:8080/"
        },
        "id": "Wb_BSwuyqoPL",
        "outputId": "ef2078ba-6b24-45c1-9421-f314bbd1b624"
      },
      "execution_count": null,
      "outputs": [
        {
          "output_type": "stream",
          "name": "stdout",
          "text": [
            "[[1.         1.41421356 1.73205081]\n",
            " [1.73205081 2.         2.23606798]]\n",
            "1.2909944487358056\n"
          ]
        }
      ]
    },
    {
      "cell_type": "code",
      "source": [
        "m1 = [[1,2,3],[1,2,3],[1,2,3]]\n",
        "m2 = [[1,2,3],[1,2,3],[1,2,3]]\n",
        "print(m1)\n",
        "print()\n",
        "print(m2)\n",
        "\n",
        "print(m1+m2)"
      ],
      "metadata": {
        "colab": {
          "base_uri": "https://localhost:8080/"
        },
        "id": "GtfbosFt_5la",
        "outputId": "7fe56f19-20d4-4fb6-c310-2a8aa43a348a"
      },
      "execution_count": null,
      "outputs": [
        {
          "output_type": "stream",
          "name": "stdout",
          "text": [
            "[[1, 2, 3], [1, 2, 3], [1, 2, 3]]\n",
            "\n",
            "[[1, 2, 3], [1, 2, 3], [1, 2, 3]]\n",
            "[[1, 2, 3], [1, 2, 3], [1, 2, 3], [1, 2, 3], [1, 2, 3], [1, 2, 3]]\n"
          ]
        }
      ]
    },
    {
      "cell_type": "code",
      "source": [
        "# Calcular la suma, resta, multiplicación y división de dos matrices\n",
        "x= np.array([(1,2,3),(3,4,5)])\n",
        "y= np.array([(1,2,3),(3,4,5)])\n",
        "print(x)\n",
        "print(y)\n",
        "print(\"Suma\")\n",
        "print(x+y)\n",
        "print(\"Resta\")\n",
        "print(x-y)\n",
        "print(\"Multiplicación\")\n",
        "print(x*y)\n",
        "print(\"División\")\n",
        "print(x/y)"
      ],
      "metadata": {
        "colab": {
          "base_uri": "https://localhost:8080/"
        },
        "id": "r5ZEmujlqqkJ",
        "outputId": "e8f5a145-f11d-49a8-b41c-53649fc4dd5e"
      },
      "execution_count": null,
      "outputs": [
        {
          "output_type": "stream",
          "name": "stdout",
          "text": [
            "[[1 2 3]\n",
            " [3 4 5]]\n",
            "[[1 2 3]\n",
            " [3 4 5]]\n",
            "Suma\n",
            "[[ 2  4  6]\n",
            " [ 6  8 10]]\n",
            "Resta\n",
            "[[0 0 0]\n",
            " [0 0 0]]\n",
            "Multiplicación\n",
            "[[ 1  4  9]\n",
            " [ 9 16 25]]\n",
            "División\n",
            "[[1. 1. 1.]\n",
            " [1. 1. 1.]]\n"
          ]
        }
      ]
    },
    {
      "cell_type": "code",
      "source": [
        "#Igualmente puedo realizar las operaciones con numeros enteros\n",
        "print(x)\n",
        "print()\n",
        "print(\"Suma + 5 todos los datos\")\n",
        "print(x + 2)\n",
        "print()\n",
        "#Resta, multiplicación y división\n",
        "print(x - 2)\n",
        "print()\n",
        "print(x * 2)\n",
        "print()\n",
        "print(x/2)"
      ],
      "metadata": {
        "colab": {
          "base_uri": "https://localhost:8080/"
        },
        "id": "YwqlPzOjqs3M",
        "outputId": "787473d2-c68c-4029-c68c-68946314da0a"
      },
      "execution_count": null,
      "outputs": [
        {
          "output_type": "stream",
          "name": "stdout",
          "text": [
            "[[1 2 3]\n",
            " [3 4 5]]\n",
            "\n",
            "Suma + 5 todos los datos\n",
            "[[3 4 5]\n",
            " [5 6 7]]\n",
            "\n",
            "[[-1  0  1]\n",
            " [ 1  2  3]]\n",
            "\n",
            "[[ 2  4  6]\n",
            " [ 6  8 10]]\n",
            "\n",
            "[[0.5 1.  1.5]\n",
            " [1.5 2.  2.5]]\n"
          ]
        }
      ]
    },
    {
      "cell_type": "code",
      "source": [
        "#Función Round con numpy a toda una mtriz\n",
        "arr_uni = np.random.rand(5)\n",
        "print(arr_uni)"
      ],
      "metadata": {
        "colab": {
          "base_uri": "https://localhost:8080/"
        },
        "id": "3LDYkQ2_rZ75",
        "outputId": "e1510936-34b4-4142-ca5e-1b5bba7ab3a9"
      },
      "execution_count": null,
      "outputs": [
        {
          "output_type": "stream",
          "name": "stdout",
          "text": [
            "[0.95370159 0.19173965 0.96168314 0.21199967 0.41564064]\n"
          ]
        }
      ]
    },
    {
      "cell_type": "code",
      "source": [
        "arr_uni = np.round(arr_uni, 2)\n",
        "print(arr_uni)"
      ],
      "metadata": {
        "colab": {
          "base_uri": "https://localhost:8080/"
        },
        "id": "HeghfWJbrLiM",
        "outputId": "3f580113-c0ea-4405-e745-66663ff625b8"
      },
      "execution_count": null,
      "outputs": [
        {
          "output_type": "stream",
          "name": "stdout",
          "text": [
            "[0.6  0.88 0.72 0.49 0.55]\n"
          ]
        }
      ]
    },
    {
      "cell_type": "markdown",
      "source": [
        "## Extra (secret crazy)"
      ],
      "metadata": {
        "id": "HE_-Q1totd-d"
      }
    },
    {
      "cell_type": "code",
      "source": [
        "arr = np.array([0.69, 0.94, 0.66, 0.73, 0.83])\n",
        "\n",
        "arr > 0.7\n"
      ],
      "metadata": {
        "colab": {
          "base_uri": "https://localhost:8080/"
        },
        "id": "uV7fdo1ktg0e",
        "outputId": "5dd7372f-bcb3-4e94-a139-4fb25bdad556"
      },
      "execution_count": null,
      "outputs": [
        {
          "output_type": "execute_result",
          "data": {
            "text/plain": [
              "array([False,  True, False,  True,  True])"
            ]
          },
          "metadata": {},
          "execution_count": 42
        }
      ]
    },
    {
      "cell_type": "code",
      "source": [
        ""
      ],
      "metadata": {
        "id": "OZkHptOctmwK"
      },
      "execution_count": null,
      "outputs": []
    }
  ]
}