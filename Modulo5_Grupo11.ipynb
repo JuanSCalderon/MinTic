{
  "nbformat": 4,
  "nbformat_minor": 0,
  "metadata": {
    "colab": {
      "name": "Modulo5_Grupo11.ipynb",
      "provenance": [],
      "collapsed_sections": [
        "lBKe-qNAyWQj",
        "pzceggiD9L7q"
      ],
      "include_colab_link": true
    },
    "kernelspec": {
      "name": "python3",
      "display_name": "Python 3"
    },
    "language_info": {
      "name": "python"
    }
  },
  "cells": [
    {
      "cell_type": "markdown",
      "metadata": {
        "id": "view-in-github",
        "colab_type": "text"
      },
      "source": [
        "<a href=\"https://colab.research.google.com/github/JuanSCalderon/MinTic/blob/main/Modulo5_Grupo11.ipynb\" target=\"_parent\"><img src=\"https://colab.research.google.com/assets/colab-badge.svg\" alt=\"Open In Colab\"/></a>"
      ]
    },
    {
      "cell_type": "markdown",
      "source": [
        "# Recursión."
      ],
      "metadata": {
        "id": "lBKe-qNAyWQj"
      }
    },
    {
      "cell_type": "code",
      "execution_count": null,
      "metadata": {
        "colab": {
          "base_uri": "https://localhost:8080/"
        },
        "id": "x-1kEoaZyQH_",
        "outputId": "b8f423fd-d4a1-450e-f92b-a49537fa0038"
      },
      "outputs": [
        {
          "output_type": "stream",
          "name": "stdout",
          "text": [
            "5\n",
            "4\n",
            "3\n",
            "2\n",
            "1\n",
            "0\n"
          ]
        }
      ],
      "source": [
        "def cuenta_reg(n):\n",
        "  print(n)\n",
        "  if n <= 0:\n",
        "    return\n",
        "  else:\n",
        "    cuenta_reg(n-1)\n",
        "\n",
        "cuenta_reg(5)"
      ]
    },
    {
      "cell_type": "code",
      "source": [
        "# Factorial:\n",
        "def facto(n):\n",
        "  if n <= 1:\n",
        "    return 1\n",
        "  else:\n",
        "    return n*facto(n-1)\n",
        "\n",
        "facto(4)"
      ],
      "metadata": {
        "colab": {
          "base_uri": "https://localhost:8080/"
        },
        "id": "gisLozTny6aU",
        "outputId": "2da8a8de-e123-4666-dbd6-9a348cdaa191"
      },
      "execution_count": null,
      "outputs": [
        {
          "output_type": "execute_result",
          "data": {
            "text/plain": [
              "24"
            ]
          },
          "metadata": {},
          "execution_count": 3
        }
      ]
    },
    {
      "cell_type": "code",
      "source": [
        "# Palindromo\n",
        "W = \"civic\"\n",
        "print(W)\n",
        "print(W[::-1])\n",
        "W == W[::-1]"
      ],
      "metadata": {
        "colab": {
          "base_uri": "https://localhost:8080/"
        },
        "id": "d2T276P22obP",
        "outputId": "735c654c-e1e2-43bc-a7e0-66599fe49a7f"
      },
      "execution_count": null,
      "outputs": [
        {
          "output_type": "stream",
          "name": "stdout",
          "text": [
            "civic\n",
            "civic\n"
          ]
        },
        {
          "output_type": "execute_result",
          "data": {
            "text/plain": [
              "True"
            ]
          },
          "metadata": {},
          "execution_count": 12
        }
      ]
    },
    {
      "cell_type": "markdown",
      "source": [
        "# Excepciones"
      ],
      "metadata": {
        "id": "pzceggiD9L7q"
      }
    },
    {
      "cell_type": "code",
      "source": [
        "A = input(\"Ingrese valor: \")\n",
        "try:\n",
        "  B = int(input(\"Ingrese otro valor: \"))\n",
        "  print(A+B)\n",
        "except ValueError:\n",
        "  print(\"Error de valor.\")\n",
        "except TypeError:\n",
        "  A = int(A)\n",
        "  print(A + 3)\n",
        "else:\n",
        "  print(\"ERROR.\")"
      ],
      "metadata": {
        "colab": {
          "base_uri": "https://localhost:8080/"
        },
        "id": "3jV_2Tb84PBv",
        "outputId": "0beee04d-858b-424e-99ba-f5a0406602df"
      },
      "execution_count": null,
      "outputs": [
        {
          "output_type": "stream",
          "name": "stdout",
          "text": [
            "Ingrese valor: 3\n",
            "Ingrese otro valor: \n",
            "Error de valor.\n"
          ]
        }
      ]
    },
    {
      "cell_type": "code",
      "source": [
        "try:\n",
        "  raise ValueError(\"Se ha cometido un error de valor.\")\n",
        "except ValueError as e:\n",
        "  print(\"ERROR: \", e)\n",
        "\n",
        "print(\"Continuar con la ejecucióon del resto del código...\")"
      ],
      "metadata": {
        "id": "AVOFgHvBEhEo",
        "colab": {
          "base_uri": "https://localhost:8080/"
        },
        "outputId": "75ba963b-bf58-4ed7-e628-04e0aa146bfb"
      },
      "execution_count": null,
      "outputs": [
        {
          "output_type": "stream",
          "name": "stdout",
          "text": [
            "ERROR:  Se ha cometido un error de valor.\n",
            "Continuar con la ejecucióon del resto del código...\n"
          ]
        }
      ]
    },
    {
      "cell_type": "code",
      "source": [
        "class MyError(Exception):\n",
        "  \"\"\n",
        "try:\n",
        "  x = int(input(\"Ingrese valor mayor a 200: \"))\n",
        "  if x <= 200:\n",
        "    raise MyError(\"Error por digitar un número menor a 200.\")\n",
        "  print(\"Continua normal. To bn...\")\n",
        "except MyError as e:\n",
        "  x = 201\n",
        "  print(\"ERROR:\", e)\n",
        "\n",
        "print(\"Continuar con la ejecucióon del resto del código...\")"
      ],
      "metadata": {
        "colab": {
          "base_uri": "https://localhost:8080/"
        },
        "id": "sPQqsuhE6oFv",
        "outputId": "08cd28d1-f1f6-4df7-959a-9ed2381d3b55"
      },
      "execution_count": null,
      "outputs": [
        {
          "output_type": "stream",
          "name": "stdout",
          "text": [
            "Ingrese valor mayor a 200: 4\n",
            "ERROR: Error por digitar un número menor a 200.\n",
            "Continuar con la ejecucióon del resto del código...\n"
          ]
        }
      ]
    },
    {
      "cell_type": "code",
      "source": [
        "x = [1, 2, 3, 4]\n",
        "x.append(5)\n",
        "print(x)"
      ],
      "metadata": {
        "colab": {
          "base_uri": "https://localhost:8080/"
        },
        "id": "XaB7S93M61TO",
        "outputId": "137331ba-617d-4a97-d126-3ff275c39712"
      },
      "execution_count": null,
      "outputs": [
        {
          "output_type": "stream",
          "name": "stdout",
          "text": [
            "[1, 2, 3, 4, 5]\n"
          ]
        }
      ]
    },
    {
      "cell_type": "code",
      "source": [
        "class Repo:\n",
        "  def imprime(self):\n",
        "    print(\"Esta es la clase 'Repo' y el método 'imprime'.\")\n",
        "\n",
        "E = Repo()\n",
        "E.imprime()"
      ],
      "metadata": {
        "colab": {
          "base_uri": "https://localhost:8080/"
        },
        "id": "N5jUNrN589p9",
        "outputId": "9d433bba-1ec2-43e1-f8d0-bedfdb8549c7"
      },
      "execution_count": null,
      "outputs": [
        {
          "output_type": "stream",
          "name": "stdout",
          "text": [
            "Esta es la clase 'Repo' y el método 'imprime'.\n"
          ]
        }
      ]
    },
    {
      "cell_type": "code",
      "source": [
        "nombre = input(\"Nombre del archivo a abrir: \")\n",
        "nombre = nombre + \".txt\"\n",
        "print(nombre)\n",
        "try:\n",
        "  open(nombre)\n",
        "except:\n",
        "  print(\"No se pudo abrir archivo.\")"
      ],
      "metadata": {
        "colab": {
          "base_uri": "https://localhost:8080/"
        },
        "id": "cI_uodw-91CS",
        "outputId": "17b6c86f-0fd8-4ac5-b10a-285e6a96bebe"
      },
      "execution_count": null,
      "outputs": [
        {
          "output_type": "stream",
          "name": "stdout",
          "text": [
            "Nombre del archivo a abrir: tarea\n",
            "tarea.txt\n",
            "No se pudo abrir archivo.\n"
          ]
        }
      ]
    },
    {
      "cell_type": "markdown",
      "source": [
        "# Persistencia de datos."
      ],
      "metadata": {
        "id": "QOyNvxSlKeYf"
      }
    },
    {
      "cell_type": "code",
      "source": [
        "# LECTURA DE DATOS DE UN ARCHIVO. (1)\n",
        "# 1. Abrir archivo.\n",
        "archivo = open(\"/content/vtainternet.txt\", 'r')\n",
        "# 2. Leer la información.\n",
        "for linea in archivo:\n",
        "  print(linea[:-1], end=\", \")  \n",
        "# 3. Cerrar el archivo.\n",
        "archivo.close()"
      ],
      "metadata": {
        "colab": {
          "base_uri": "https://localhost:8080/"
        },
        "id": "iY1Gn27jACcl",
        "outputId": "7029fe12-13db-4ab5-e04c-338e846bd6ca"
      },
      "execution_count": null,
      "outputs": [
        {
          "output_type": "stream",
          "name": "stdout",
          "text": [
            "12, 29, 33, 36, 22, 41, 18, 40, 3, "
          ]
        }
      ]
    },
    {
      "cell_type": "code",
      "source": [
        "# LECTURA DE DATOS DE UN ARCHIVO. (2. readline)\n",
        "# 1. Abrir archivo.\n",
        "archivo = open(\"/content/vtainternet.txt\", 'r')\n",
        "# 2. Leer la información.\n",
        "linea = archivo.readline()\n",
        "while linea != \"\":\n",
        "  print(linea[:-1], end=\", \")\n",
        "  linea = archivo.readline()\n",
        "# 3. Cerrar el archivo.\n",
        "archivo.close()"
      ],
      "metadata": {
        "colab": {
          "base_uri": "https://localhost:8080/"
        },
        "id": "BjOqA87zL9so",
        "outputId": "0222ded3-cc47-49f9-cb4f-1420b04ec12f"
      },
      "execution_count": null,
      "outputs": [
        {
          "output_type": "stream",
          "name": "stdout",
          "text": [
            "12, 29, 33, 36, 22, 41, 18, 40, 3, "
          ]
        }
      ]
    },
    {
      "cell_type": "code",
      "source": [
        "len(list(archivo))"
      ],
      "metadata": {
        "colab": {
          "base_uri": "https://localhost:8080/"
        },
        "id": "q4YrPJC5RB11",
        "outputId": "f176a83c-eabb-4308-e506-f479df7651fc"
      },
      "execution_count": null,
      "outputs": [
        {
          "output_type": "execute_result",
          "data": {
            "text/plain": [
              "0"
            ]
          },
          "metadata": {},
          "execution_count": 19
        }
      ]
    },
    {
      "cell_type": "code",
      "source": [
        ""
      ],
      "metadata": {
        "id": "8HkYgKwbSx69"
      },
      "execution_count": null,
      "outputs": []
    },
    {
      "cell_type": "code",
      "source": [
        ""
      ],
      "metadata": {
        "id": "9kkBi10jIkDy"
      },
      "execution_count": null,
      "outputs": []
    },
    {
      "cell_type": "code",
      "source": [
        ""
      ],
      "metadata": {
        "id": "jhjYEeYMIj-G"
      },
      "execution_count": null,
      "outputs": []
    },
    {
      "cell_type": "code",
      "source": [
        ""
      ],
      "metadata": {
        "id": "XpGpshBmIj8Z"
      },
      "execution_count": null,
      "outputs": []
    },
    {
      "cell_type": "code",
      "source": [
        ""
      ],
      "metadata": {
        "id": "qgxhY6rgIj2G"
      },
      "execution_count": null,
      "outputs": []
    },
    {
      "cell_type": "code",
      "source": [
        ""
      ],
      "metadata": {
        "id": "Gc0MH1wKIj0X"
      },
      "execution_count": null,
      "outputs": []
    },
    {
      "cell_type": "code",
      "source": [
        ""
      ],
      "metadata": {
        "id": "qcgd9Nw1Ijo2"
      },
      "execution_count": null,
      "outputs": []
    },
    {
      "cell_type": "markdown",
      "source": [
        "# Reto 5"
      ],
      "metadata": {
        "id": "pbwQf4tWIk58"
      }
    },
    {
      "cell_type": "code",
      "source": [
        "def leer_datos():\n",
        "  oper = input()\n",
        "  prod = input().split()\n",
        "  prod[0] = int(prod[0])\n",
        "  prod[2] = float(prod[2])\n",
        "  prod[3] = int(prod[3])\n",
        "  return oper, prod\n",
        "\n",
        "def agregar(dicci, prod):\n",
        "  if prod[0] in dicci:\n",
        "    return dicci, False\n",
        "  dicci[prod[0]] = prod[1:]\n",
        "  return dicci, True\n",
        "\n",
        "def actualiza(dicci, prod):\n",
        "  if prod[0] in dicci:\n",
        "    dicci[prod[0]] = prod[1:]\n",
        "    return dicci, True\n",
        "  return dicci, False\n",
        "\n",
        "def pmayor(dicci):\n",
        "  L = []\n",
        "  for i in range(len(dicci)):\n",
        "    L.append(list(dicci.values())[i][1])\n",
        "  return list(dicci.values())[L.index(max(L))][0]\n",
        "\n",
        "dicci = {1:\t['Manzanas',\t5000.0,\t25],\n",
        "2:\t['Limones',\t2300.0,\t15],\n",
        "3:\t['Peras',\t2700.0,\t33],\n",
        "4:\t['Arandanos',\t9300.0,\t5],\n",
        "5:\t['Tomates',\t2100.0,\t42],\n",
        "6:\t['Fresas',\t4100.0,\t3],\n",
        "7:\t['Helado',\t4500.0,\t41],\n",
        "8:\t['Galletas',\t500.0,\t8],\n",
        "9:\t['Chocolates',\t3500.0,\t80],\n",
        "10:\t['Jamon',\t15000.0,\t10]\n",
        "}\n",
        "\n",
        "# Ingreso de datos:\n",
        "oper, prod = leer_datos()\n",
        "# AGREGAR, BORRAR O ACTUALIZAR:\n",
        "if oper == 'AGREGAR':\n",
        "  dicci, bandera = agregar(dicci, prod)\n",
        "elif oper == 'BORRAR':\n",
        "  print('BORRAR')\n",
        "elif oper == 'ACTUALIZAR':\n",
        "  #print('ACTUALIZAR')\n",
        "  dicci, bandera = actualiza(dicci, prod)\n",
        "else:\n",
        "  print(\"ERROR\")\n",
        "# Encontrar valores solicitados:\n",
        "pmax = pmayor(dicci)\n",
        "# Imprimir los valores de salida:\n",
        "if bandera:\n",
        "  print(pmax)\n",
        "else:\n",
        "  print(\"ERROR\")"
      ],
      "metadata": {
        "colab": {
          "base_uri": "https://localhost:8080/"
        },
        "id": "ncaUgBGAImLr",
        "outputId": "930cab2c-5768-4b43-a554-2d3f283131fa"
      },
      "execution_count": null,
      "outputs": [
        {
          "output_type": "stream",
          "name": "stdout",
          "text": [
            "BORRAR\n",
            "14 Maiz 45000 12\n",
            "BORRAR\n",
            "Jamon\n"
          ]
        }
      ]
    },
    {
      "cell_type": "markdown",
      "source": [
        "## Ingreso de datos o lectura de datos."
      ],
      "metadata": {
        "id": "Hk4fhfNVJfcB"
      }
    },
    {
      "cell_type": "code",
      "source": [
        "oper = input()\n",
        "prod = input().split()\n",
        "prod[0] = int(prod[0])\n",
        "prod[2] = float(prod[2])\n",
        "prod[3] = int(prod[3])\n",
        "print(prod)"
      ],
      "metadata": {
        "colab": {
          "base_uri": "https://localhost:8080/"
        },
        "id": "j_uRThHjJXzm",
        "outputId": "f027c2fc-6e51-4eab-c871-96645df04a79"
      },
      "execution_count": null,
      "outputs": [
        {
          "output_type": "stream",
          "name": "stdout",
          "text": [
            "ACTUALIZAR\n",
            "11 Melón 70 21\n",
            "[11, 'Melón', 70.0, 21]\n"
          ]
        }
      ]
    },
    {
      "cell_type": "code",
      "source": [
        "prod[0] in dicci\n",
        "prod"
      ],
      "metadata": {
        "colab": {
          "base_uri": "https://localhost:8080/"
        },
        "id": "NkwYcozkJ4qF",
        "outputId": "5d8b481e-a813-4b9e-a1b0-bc60f463390e"
      },
      "execution_count": null,
      "outputs": [
        {
          "output_type": "execute_result",
          "data": {
            "text/plain": [
              "[7, 'Helado', 65000.0, 11]"
            ]
          },
          "metadata": {},
          "execution_count": 20
        }
      ]
    },
    {
      "cell_type": "markdown",
      "source": [
        "## AGREGAR Y ACTUALIZAR:"
      ],
      "metadata": {
        "id": "N20bS8U3Q3lL"
      }
    },
    {
      "cell_type": "code",
      "source": [
        "dicci[11] = ['pera', 2000, 9]\n",
        "dicci\n",
        "prod[0]\n",
        "prod[1:]\n",
        "prod\n",
        "dicci[prod[0]] = prod[1:]\n"
      ],
      "metadata": {
        "colab": {
          "base_uri": "https://localhost:8080/"
        },
        "id": "LzEtTm8qOR4I",
        "outputId": "85b07afb-b19a-46cf-b282-dfb4eafb3f40"
      },
      "execution_count": null,
      "outputs": [
        {
          "output_type": "execute_result",
          "data": {
            "text/plain": [
              "[7, 'Helado', 65000.0, 11]"
            ]
          },
          "metadata": {},
          "execution_count": 27
        }
      ]
    },
    {
      "cell_type": "code",
      "source": [
        "dicci"
      ],
      "metadata": {
        "colab": {
          "base_uri": "https://localhost:8080/"
        },
        "id": "G5MZbY85Q9fi",
        "outputId": "72713358-530f-4928-b6c8-7afe784bd8e1"
      },
      "execution_count": null,
      "outputs": [
        {
          "output_type": "execute_result",
          "data": {
            "text/plain": [
              "{1: ['Manzanas', 5000.0, 25],\n",
              " 2: ['Limones', 2300.0, 15],\n",
              " 3: ['Peras', 2700.0, 33],\n",
              " 4: ['Arandanos', 9300.0, 5],\n",
              " 5: ['Tomates', 2100.0, 42],\n",
              " 6: ['Fresas', 4100.0, 3],\n",
              " 7: ['Helado', 65000.0, 11],\n",
              " 8: ['Galletas', 500.0, 8],\n",
              " 9: ['Chocolates', 3500.0, 80],\n",
              " 10: ['Jamon', 15000.0, 10]}"
            ]
          },
          "metadata": {},
          "execution_count": 33
        }
      ]
    },
    {
      "cell_type": "markdown",
      "source": [
        "## Producto con el precio mayor:"
      ],
      "metadata": {
        "id": "j-hGRndBYnyJ"
      }
    },
    {
      "cell_type": "code",
      "source": [
        "L = []\n",
        "for i in range(len(dicci)):\n",
        "  L.append(list(dicci.values())[i][1])\n",
        "print(L)\n",
        "print(list(dicci.values())[L.index(max(L))][0])\n",
        "dicci"
      ],
      "metadata": {
        "colab": {
          "base_uri": "https://localhost:8080/"
        },
        "id": "fszTO92-UmTd",
        "outputId": "1c3e8770-d22c-4dbe-a29b-241d172c159f"
      },
      "execution_count": null,
      "outputs": [
        {
          "output_type": "stream",
          "name": "stdout",
          "text": [
            "[5000.0, 2300.0, 2700.0, 9300.0, 2100.0, 4100.0, 65000.0, 500.0, 3500.0, 15000.0]\n",
            "Helado\n"
          ]
        },
        {
          "output_type": "execute_result",
          "data": {
            "text/plain": [
              "{1: ['Manzanas', 5000.0, 25],\n",
              " 2: ['Limones', 2300.0, 15],\n",
              " 3: ['Peras', 2700.0, 33],\n",
              " 4: ['Arandanos', 9300.0, 5],\n",
              " 5: ['Tomates', 2100.0, 42],\n",
              " 6: ['Fresas', 4100.0, 3],\n",
              " 7: ['Helado', 65000.0, 11],\n",
              " 8: ['Galletas', 500.0, 8],\n",
              " 9: ['Chocolates', 3500.0, 80],\n",
              " 10: ['Jamon', 15000.0, 10]}"
            ]
          },
          "metadata": {},
          "execution_count": 52
        }
      ]
    },
    {
      "cell_type": "code",
      "source": [
        ""
      ],
      "metadata": {
        "id": "9Q572EuVYsEe"
      },
      "execution_count": null,
      "outputs": []
    }
  ]
}