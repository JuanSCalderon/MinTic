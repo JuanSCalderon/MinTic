{
  "nbformat": 4,
  "nbformat_minor": 0,
  "metadata": {
    "colab": {
      "name": "S1 C1T18: Recursión en Python.ipynb",
      "provenance": [],
      "include_colab_link": true
    },
    "kernelspec": {
      "name": "python3",
      "display_name": "Python 3"
    },
    "language_info": {
      "name": "python"
    }
  },
  "cells": [
    {
      "cell_type": "markdown",
      "metadata": {
        "id": "view-in-github",
        "colab_type": "text"
      },
      "source": [
        "<a href=\"https://colab.research.google.com/github/JuanSCalderon/MinTic/blob/main/S1_C1T18_Recursi%C3%B3n_en_Python.ipynb\" target=\"_parent\"><img src=\"https://colab.research.google.com/assets/colab-badge.svg\" alt=\"Open In Colab\"/></a>"
      ]
    },
    {
      "cell_type": "markdown",
      "source": [
        "**Comenzamos a las 8:05**"
      ],
      "metadata": {
        "id": "L3HjeO64EJmZ"
      }
    },
    {
      "cell_type": "markdown",
      "source": [
        "**Ejercicio 1**\n",
        "\n",
        "Realizar una función que reciba un número N positivo y enliste los números de N a 0."
      ],
      "metadata": {
        "id": "QUKBCs0H6la1"
      }
    },
    {
      "cell_type": "code",
      "source": [
        "def num(N):\n",
        "  if N == 0:\n",
        "    print(N)\n",
        "    return\n",
        "  else:\n",
        "    print(N)\n",
        "    num(N-1)\n",
        "\n",
        "N = int(input(\"Digite un número positivo\")) #4\n",
        "num(N)"
      ],
      "metadata": {
        "colab": {
          "base_uri": "https://localhost:8080/"
        },
        "id": "z9x4mRm0QFS8",
        "outputId": "152a3bfc-3aa7-4f1f-bdaf-f2c00320e588"
      },
      "execution_count": null,
      "outputs": [
        {
          "output_type": "stream",
          "name": "stdout",
          "text": [
            "Digite un número positivo27\n",
            "27\n",
            "26\n",
            "25\n",
            "24\n",
            "23\n",
            "22\n",
            "21\n",
            "20\n",
            "19\n",
            "18\n",
            "17\n",
            "16\n",
            "15\n",
            "14\n",
            "13\n",
            "12\n",
            "11\n",
            "10\n",
            "9\n",
            "8\n",
            "7\n",
            "6\n",
            "5\n",
            "4\n",
            "3\n",
            "2\n",
            "1\n",
            "0\n"
          ]
        }
      ]
    },
    {
      "cell_type": "markdown",
      "source": [
        "**Ejercicio 2**\n",
        "\n",
        "Realizar una función que reciba un número N positivo y retorne la suma de los N primeros números (incluyendo N)"
      ],
      "metadata": {
        "id": "Hd-vARJU605F"
      }
    },
    {
      "cell_type": "code",
      "source": [
        "def suma(N):\n",
        "  if N == 0:\n",
        "    return 0\n",
        "  else:\n",
        "    return N + suma(N-1)\n",
        "\n",
        "N = int(input(\"Digite un número positivo: \")) #5\n",
        "print(suma(N))"
      ],
      "metadata": {
        "colab": {
          "base_uri": "https://localhost:8080/"
        },
        "id": "JW3IWIfwTcOO",
        "outputId": "c8a11a55-1b0d-4116-ba80-b6308c270a85"
      },
      "execution_count": null,
      "outputs": [
        {
          "output_type": "stream",
          "name": "stdout",
          "text": [
            "Digite un número positivo: 234\n",
            "27495\n"
          ]
        }
      ]
    },
    {
      "cell_type": "markdown",
      "source": [
        "**Ejercicio 3**\n",
        "\n",
        "Realizar una función que realice la multiplicación de dos números utilizando recursividad"
      ],
      "metadata": {
        "id": "nswdUCRE68dx"
      }
    },
    {
      "cell_type": "code",
      "source": [
        "def mult(N,M):\n",
        "  if M == 0:\n",
        "    return 0\n",
        "  else:\n",
        "    return N + mult(N,M-1)\n",
        "\n",
        "\n",
        "N = int(input(\"Digite un número positivo: \")) #4\n",
        "M = int(input(\"Digite un número positivo: \")) #5\n",
        "print(mult(N,M))"
      ],
      "metadata": {
        "colab": {
          "base_uri": "https://localhost:8080/"
        },
        "id": "U4tK4iyAWvv6",
        "outputId": "637713ab-fed5-49ee-c56c-e0640b928d0f"
      },
      "execution_count": null,
      "outputs": [
        {
          "output_type": "stream",
          "name": "stdout",
          "text": [
            "Digite un número positivo: 67\n",
            "Digite un número positivo: 4\n",
            "268\n"
          ]
        }
      ]
    },
    {
      "cell_type": "code",
      "source": [
        "67 * 4"
      ],
      "metadata": {
        "colab": {
          "base_uri": "https://localhost:8080/"
        },
        "id": "O8iZofd5ZYe_",
        "outputId": "7b078ed1-22e8-4a53-b276-27706f5945ed"
      },
      "execution_count": null,
      "outputs": [
        {
          "output_type": "execute_result",
          "data": {
            "text/plain": [
              "268"
            ]
          },
          "metadata": {},
          "execution_count": 15
        }
      ]
    },
    {
      "cell_type": "markdown",
      "source": [
        "**Ejercicio 4**\n",
        "\n",
        "Realizar una función recursiva que realice la suma de una lista de números"
      ],
      "metadata": {
        "id": "NnxCQUrR7XKk"
      }
    },
    {
      "cell_type": "code",
      "source": [
        "lista = [2,4,6,7,8,23]\n",
        "\n",
        "def suma_lista(lista,indice):\n",
        "  if indice == len(lista) - 1: #5\n",
        "    return lista[indice]\n",
        "  else:\n",
        "    return lista[indice] + suma_lista(lista, indice+1)\n",
        "\n",
        "print(suma_lista(lista,0))"
      ],
      "metadata": {
        "colab": {
          "base_uri": "https://localhost:8080/"
        },
        "id": "Hl-jIvo8ZsvE",
        "outputId": "e918eacf-638a-4d21-883c-dfaff95834eb"
      },
      "execution_count": null,
      "outputs": [
        {
          "output_type": "stream",
          "name": "stdout",
          "text": [
            "50\n"
          ]
        }
      ]
    },
    {
      "cell_type": "code",
      "source": [
        "sum(lista)"
      ],
      "metadata": {
        "colab": {
          "base_uri": "https://localhost:8080/"
        },
        "id": "hfdbr54_dwf1",
        "outputId": "0a559d70-8980-4a44-83bd-a3f106911d2f"
      },
      "execution_count": null,
      "outputs": [
        {
          "output_type": "execute_result",
          "data": {
            "text/plain": [
              "50"
            ]
          },
          "metadata": {},
          "execution_count": 23
        }
      ]
    },
    {
      "cell_type": "markdown",
      "source": [
        "**Ejercicio 5**\n",
        "\n",
        "Crear un programa juego para adivinar un numero, sigue preguntando hasta que lo adivines. si lo adivinas se termina el juego. si no te dice si tu intento es mayor o menor al numero secreto"
      ],
      "metadata": {
        "id": "HnQe5ERW7jQ2"
      }
    },
    {
      "cell_type": "code",
      "source": [
        "import random\n",
        "num_aleatorio = random.randint(0,100)\n",
        "\n",
        "def juego(num_usuario):\n",
        "  if num_usuario == num_aleatorio:\n",
        "    print(\"Ganaste!\")\n",
        "    return\n",
        "  elif num_usuario < num_aleatorio:\n",
        "    print(\"Su número es menor al número secreto\")\n",
        "  elif num_usuario > num_aleatorio:\n",
        "    print(\"Su número es mayor al número secreto\")\n",
        "  \n",
        "  juego(int(input(\"Ingrese nuevamente un número: \")))\n",
        "\n",
        "\n",
        "juego(int(input(\"Ingrese un número: \")))"
      ],
      "metadata": {
        "colab": {
          "base_uri": "https://localhost:8080/"
        },
        "id": "rDe1KElkeE_C",
        "outputId": "ba33a41d-de39-4dbe-cf9b-4df2f65b15b5"
      },
      "execution_count": null,
      "outputs": [
        {
          "output_type": "stream",
          "name": "stdout",
          "text": [
            "Ingrese un número: 5\n",
            "Su número es menor al número secreto\n",
            "Ingrese nuevamente un número: 50\n",
            "Su número es mayor al número secreto\n",
            "Ingrese nuevamente un número: 27\n",
            "Su número es mayor al número secreto\n",
            "Ingrese nuevamente un número: 17\n",
            "Su número es menor al número secreto\n",
            "Ingrese nuevamente un número: 21\n",
            "Su número es menor al número secreto\n",
            "Ingrese nuevamente un número: 25\n",
            "Su número es mayor al número secreto\n",
            "Ingrese nuevamente un número: 24\n",
            "Su número es mayor al número secreto\n",
            "Ingrese nuevamente un número: 23\n",
            "Su número es mayor al número secreto\n",
            "Ingrese nuevamente un número: 22\n",
            "Ganaste!\n"
          ]
        }
      ]
    },
    {
      "cell_type": "code",
      "source": [
        "print(num_aleatorio)"
      ],
      "metadata": {
        "colab": {
          "base_uri": "https://localhost:8080/"
        },
        "id": "CI0mus8hgc5a",
        "outputId": "9dfe8e01-8d1c-47fb-db39-117cc6cb328d"
      },
      "execution_count": null,
      "outputs": [
        {
          "output_type": "stream",
          "name": "stdout",
          "text": [
            "22\n"
          ]
        }
      ]
    },
    {
      "cell_type": "code",
      "source": [
        "17 ** 7"
      ],
      "metadata": {
        "colab": {
          "base_uri": "https://localhost:8080/"
        },
        "id": "GO6c9G-Bg6pg",
        "outputId": "f7e36967-3da5-4dcc-e42e-0ddc2e43a50d"
      },
      "execution_count": null,
      "outputs": [
        {
          "output_type": "execute_result",
          "data": {
            "text/plain": [
              "410338673"
            ]
          },
          "metadata": {},
          "execution_count": 42
        }
      ]
    },
    {
      "cell_type": "code",
      "source": [
        "def mult(N,M):\n",
        "  if M == 0:\n",
        "    return 1\n",
        "  else:\n",
        "    return N * mult(N,M-1)\n",
        "\n",
        "N = int(input(\"Digite un número positivo: \")) #5\n",
        "M = int(input(\"Digite un exponente: \")) #4\n",
        "print(mult(N,M))"
      ],
      "metadata": {
        "colab": {
          "base_uri": "https://localhost:8080/"
        },
        "id": "WoRuq5_1hOWS",
        "outputId": "221c90de-4265-4c82-9e96-0051bffcb8c5"
      },
      "execution_count": null,
      "outputs": [
        {
          "output_type": "stream",
          "name": "stdout",
          "text": [
            "Digite un número positivo: 17\n",
            "Digite un número positivo: 7\n",
            "410338673\n"
          ]
        }
      ]
    },
    {
      "cell_type": "code",
      "source": [
        "def fibonacci(numero):\n",
        "    if numero>2:\n",
        "        return fibonacci(numero-1)+fibonacci(numero-2)\n",
        "    else:\n",
        "        return 1\n",
        "\n",
        "print(\"fibonacci reducido: \",fibonacci(3))"
      ],
      "metadata": {
        "colab": {
          "base_uri": "https://localhost:8080/"
        },
        "id": "uDCzMUrHl-Bf",
        "outputId": "7f624583-c2be-4cfd-f6fd-8de8013091da"
      },
      "execution_count": null,
      "outputs": [
        {
          "output_type": "stream",
          "name": "stdout",
          "text": [
            "fibonacci reducido  2\n"
          ]
        }
      ]
    }
  ]
}