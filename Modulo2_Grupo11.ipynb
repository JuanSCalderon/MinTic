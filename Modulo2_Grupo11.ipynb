{
  "nbformat": 4,
  "nbformat_minor": 0,
  "metadata": {
    "colab": {
      "name": "Modulo2_Grupo11.ipynb",
      "provenance": [],
      "collapsed_sections": [],
      "include_colab_link": true
    },
    "kernelspec": {
      "name": "python3",
      "display_name": "Python 3"
    },
    "language_info": {
      "name": "python"
    }
  },
  "cells": [
    {
      "cell_type": "markdown",
      "metadata": {
        "id": "view-in-github",
        "colab_type": "text"
      },
      "source": [
        "<a href=\"https://colab.research.google.com/github/JuanSCalderon/MinTic/blob/main/Modulo2_Grupo11.ipynb\" target=\"_parent\"><img src=\"https://colab.research.google.com/assets/colab-badge.svg\" alt=\"Open In Colab\"/></a>"
      ]
    },
    {
      "cell_type": "code",
      "execution_count": null,
      "metadata": {
        "id": "qlnHpYhiijx_"
      },
      "outputs": [],
      "source": [
        "# 1. Leer (input) las variables de entrada. \n",
        "# 2. Hallar el promedio de los talleres.\n",
        "# 3. obtener el 30% de ese promedio y guardarlo en nota de corte 1.\n",
        "# 4. Hallar el promedio de las evaluaciones. \n",
        "# 5. Obtener el 30% del promedio de evaluaciones y guardarlo en nota corte 2.\n",
        "# 6. Obtener 50% de la nota trabajo y sumar con el 50% de la nota sustentación.\n",
        "# 7. Ponderar (40%) la nota de trabajo y sustentación.\n",
        "# 8. obtener la nota total con la suma de la nota en cada uno de los cortes.\n",
        "# 9. Escribir (imprimir, print) en pantalla el valor de la nota final."
      ]
    },
    {
      "cell_type": "code",
      "source": [
        "notataller1 = float(input(\"Ingrese la nota del taller 1: \"))\n",
        "notataller2 = float(input(\"Ingrese la nota del taller 2: \"))\n",
        "notataller3 = float(input(\"Ingrese la nota del taller 3: \"))\n",
        "notaevaluacion1 = float(input(\"Ingrese nota evaluación 1: \"))\n",
        "notaevaluacion2 = float(input(\"Ingrese nota evaluación 2: \"))\n",
        "notatrabajo = float(input(\"Ingrese nota del trabajo: \"))\n",
        "notasustentacion = float(input(\"Ingrese nota de sustentación: \"))\n",
        "promtaller = (notataller1 + notataller2 + notataller3) / 3\n",
        "notacorte1 = promtaller * 0.3\n",
        "promeval = (notaevaluacion1 + notaevaluacion2) / 2\n",
        "notacorte2 = promeval * 0.3\n",
        "notapr = notatrabajo*0.5 + notasustentacion*0.5\n",
        "notapr = notapr * 0.4\n",
        "notatotal = notacorte1 + notacorte2 + notapr\n",
        "print(\"La nota total es: \",round(notatotal, 1))"
      ],
      "metadata": {
        "colab": {
          "base_uri": "https://localhost:8080/"
        },
        "id": "bvuNZdq8nRYD",
        "outputId": "9ce1fa7e-c1b6-4aa0-bb05-c39b3c7a8ba2"
      },
      "execution_count": null,
      "outputs": [
        {
          "output_type": "stream",
          "name": "stdout",
          "text": [
            "Ingrese la nota del taller 1: 2\n",
            "Ingrese la nota del taller 2: 2.6\n",
            "Ingrese la nota del taller 3: 4\n",
            "Ingrese nota evaluación 1: 1\n",
            "Ingrese nota evaluación 2: 4.5\n",
            "Ingrese nota del trabajo: 3\n",
            "Ingrese nota de sustentación: 3.2\n",
            "La nota total es:  2.9\n"
          ]
        }
      ]
    },
    {
      "cell_type": "code",
      "source": [
        ""
      ],
      "metadata": {
        "id": "4OSsd43ontF1"
      },
      "execution_count": null,
      "outputs": []
    },
    {
      "cell_type": "code",
      "source": [
        "notataller1 = float(input(\"Ingrese la nota del taller 1: \"))\n",
        "notataller2 = float(input(\"Ingrese la nota del taller 2: \"))\n",
        "notataller3 = float(input(\"Ingrese la nota del taller 3: \"))\n",
        "notaevaluacion1 = float(input(\"Ingrese nota evaluación 1: \"))\n",
        "notaevaluacion2 = float(input(\"Ingrese nota evaluación 2: \"))\n",
        "notatrabajo = float(input(\"Ingrese nota del trabajo: \"))\n",
        "notasustentacion = float(input(\"Ingrese nota de sustentación: \"))"
      ],
      "metadata": {
        "colab": {
          "base_uri": "https://localhost:8080/"
        },
        "id": "hfOidfZSoWC5",
        "outputId": "982cfe0c-6502-44a9-8820-4fce89745d7e"
      },
      "execution_count": null,
      "outputs": [
        {
          "name": "stdout",
          "output_type": "stream",
          "text": [
            "Ingrese la nota del taller 1: 3\n",
            "Ingrese la nota del taller 2: 3\n",
            "Ingrese la nota del taller 3: 3\n",
            "Ingrese nota evaluación 1: 3\n",
            "Ingrese nota evaluación 2: 3\n",
            "Ingrese nota del trabajo: 3\n",
            "Ingrese nota de sustentación: 3\n"
          ]
        }
      ]
    },
    {
      "cell_type": "markdown",
      "source": [
        "$Área = \\frac{base*altura}{2}$"
      ],
      "metadata": {
        "id": "qX-Tt5-tnmyC"
      }
    },
    {
      "cell_type": "code",
      "source": [
        "base = float(input(\"Ingrese la base del triángulo: \"))\n",
        "altura = float(input(\"Ingrese la altura del triángulo: \"))\n",
        "area = base*altura/2\n",
        "print(area)"
      ],
      "metadata": {
        "id": "DAuP4UolsFEF",
        "colab": {
          "base_uri": "https://localhost:8080/"
        },
        "outputId": "c11df1d5-cf54-47ef-f160-806a5e9a78ec"
      },
      "execution_count": null,
      "outputs": [
        {
          "output_type": "stream",
          "name": "stdout",
          "text": [
            "Ingrese la base del triángulo: 3\n",
            "Ingrese la altura del triángulo: 6\n",
            "9.0\n"
          ]
        }
      ]
    },
    {
      "cell_type": "markdown",
      "source": [
        "valor final = capital + valor con intereses"
      ],
      "metadata": {
        "id": "7hR5lWuArMLw"
      }
    },
    {
      "cell_type": "code",
      "source": [
        "15/12"
      ],
      "metadata": {
        "id": "L4d-ucz7sapz",
        "colab": {
          "base_uri": "https://localhost:8080/"
        },
        "outputId": "a5116276-5a31-4ba8-ea39-586e09965a7d"
      },
      "execution_count": null,
      "outputs": [
        {
          "output_type": "execute_result",
          "data": {
            "text/plain": [
              "1.25"
            ]
          },
          "metadata": {},
          "execution_count": 3
        }
      ]
    },
    {
      "cell_type": "code",
      "source": [
        "capital = int(input(\"Ingrese el capital inicial: \"))\n",
        "V_intereses = capital * 1.25/100\n",
        "v_final = capital + V_intereses # VF= capital*(1,15)\n",
        "print(\"pero que me salga con el nombre: \",round(v_final)) "
      ],
      "metadata": {
        "id": "6dv20yO_s751",
        "colab": {
          "base_uri": "https://localhost:8080/"
        },
        "outputId": "f0caf457-7abb-4264-e059-c2bbc3a84147"
      },
      "execution_count": null,
      "outputs": [
        {
          "output_type": "stream",
          "name": "stdout",
          "text": [
            "Ingrese el capital inicial: 1000000\n",
            "pero que me salga con el nombre:  1012500\n"
          ]
        }
      ]
    },
    {
      "cell_type": "code",
      "source": [
        "# Porcentaje hombres y mujeres\n",
        "nh = int(input(\"Ingrese número de hombres: \"))\n",
        "nm = int(input(\"Ingrese número de mujeres: \"))\n",
        "ta = nh + nm\n",
        "ph = (nh/ta)*100\n",
        "pm = (nm/ta)*100\n",
        "print(\"El porcentaje de hombres es: \", ph, \"%\")\n",
        "print(\"El porcentaje de mujeres es: \", pm, \"%\")"
      ],
      "metadata": {
        "id": "QMXCeuOkuWdy",
        "colab": {
          "base_uri": "https://localhost:8080/"
        },
        "outputId": "44d85bc9-c89c-439c-8ea4-52bd40824402"
      },
      "execution_count": null,
      "outputs": [
        {
          "output_type": "stream",
          "name": "stdout",
          "text": [
            "Ingrese número de hombres: 35\n",
            "Ingrese número de mujeres: 65\n",
            "El porcentaje de hombres es:  35.0 %\n",
            "El porcentaje de mujeres es:  65.0 %\n"
          ]
        }
      ]
    },
    {
      "cell_type": "markdown",
      "source": [
        "$masa = \\frac{presión*volumen}{0,37*(temperatura+460)}$"
      ],
      "metadata": {
        "id": "iSjsU_MS2YbI"
      }
    },
    {
      "cell_type": "code",
      "source": [
        "presion = float(input(\"Ingrese la presión: \"))\n",
        "volumen = float(input(\"Ingrese el volumen: \"))\n",
        "temperatura = float(input(\"Ingrese temperatura: \"))\n",
        "masa = (presion*volumen)/(0.37*(temperatura+460))\n",
        "print(round(masa, 3))"
      ],
      "metadata": {
        "id": "m027iAQcwCJB",
        "colab": {
          "base_uri": "https://localhost:8080/"
        },
        "outputId": "251a3bad-3e8a-4ad9-b203-5ef70208090b"
      },
      "execution_count": null,
      "outputs": [
        {
          "output_type": "stream",
          "name": "stdout",
          "text": [
            "Ingrese la presión: 1\n",
            "Ingrese el volumen: 300\n",
            "Ingrese temperatura: 20\n",
            "1.689\n"
          ]
        }
      ]
    },
    {
      "cell_type": "code",
      "source": [
        "# Presupuesto hospital:\n",
        "presupuesto = int(input(\"Cuánto es el monto presupuestal?: \"))\n",
        "\n",
        "gineco = presupuesto*0.4\n",
        "traumat = presupuesto*0.3\n",
        "pediat = presupuesto*0.3\n",
        "\n",
        "print(\"El presupuesto para ginecología es: \", gineco)\n",
        "print(\"El presupuesto para traumatología es: \", traumat)\n",
        "print(\"El presupuesto para pediatría es: \", pediat)"
      ],
      "metadata": {
        "id": "WRTz2dLcwWsn",
        "colab": {
          "base_uri": "https://localhost:8080/"
        },
        "outputId": "e88ff839-5077-468d-e91f-ce15383472aa"
      },
      "execution_count": null,
      "outputs": [
        {
          "output_type": "stream",
          "name": "stdout",
          "text": [
            "Cuánto es el monto presupuestal?: 100000000\n",
            "El presupuesto para ginecología es:  40000000.0\n",
            "El presupuesto para traumatología es:  30000000.0\n",
            "El presupuesto para pediatría es:  30000000.0\n"
          ]
        }
      ]
    },
    {
      "cell_type": "markdown",
      "source": [
        "si condición entonces instrucciones\n",
        "\n",
        "si condición:\n",
        "  instrucción 1\n",
        "  instrucción 2\n",
        "  ....\n",
        "  instrucción n\n",
        "intrucción X\n",
        "...\n",
        "finalizar el programa\n",
        "\n"
      ],
      "metadata": {
        "id": "C0Y9uDQo8Pzd"
      }
    },
    {
      "cell_type": "code",
      "source": [
        "# ejercicio condicional. if.\n",
        "p_int = float(input(\"Ingrese el porcentaje de interés: \"))\n",
        "cap = int(input(\"Ingrese el valor del capital inicial: \"))\n",
        "v_int = cap * p_int\n",
        "if (v_int > 7000):\n",
        "  capf = cap + v_int\n",
        "  print(\"Si es conveniente invertir.\")\n",
        "else:\n",
        "  capf = cap\n",
        "  print(\"No es conveniente. \")\n",
        "print(\"El valor despues de inversión: \", capf)\n",
        "print(v_int)"
      ],
      "metadata": {
        "id": "qIIRQAH3xC62",
        "colab": {
          "base_uri": "https://localhost:8080/"
        },
        "outputId": "e4053f5c-2fbd-4b58-9e02-7188cdb028fb"
      },
      "execution_count": null,
      "outputs": [
        {
          "output_type": "stream",
          "name": "stdout",
          "text": [
            "Ingrese el porcentaje de interés: 0.2\n",
            "Ingrese el valor del capital inicial: 100000\n",
            "Si es conveniente invertir.\n",
            "El valor despues de inversión:  120000.0\n",
            "20000.0\n"
          ]
        }
      ]
    },
    {
      "cell_type": "code",
      "source": [
        "# Ejercicio de intervalos:\n",
        "x = int(input(\"Ingrese un valor para 'x': \"))\n",
        "if (x <= -5):\n",
        "  print(\"A\")\n",
        "else:\n",
        "  if (x>-5) and (x<8):\n",
        "    print(\"B\")\n",
        "  else:\n",
        "    print(\"C\")"
      ],
      "metadata": {
        "id": "RrNnlgek9H6G",
        "colab": {
          "base_uri": "https://localhost:8080/"
        },
        "outputId": "eb200c20-960b-4d40-c7b4-2ebfe0d2f8ae"
      },
      "execution_count": null,
      "outputs": [
        {
          "output_type": "stream",
          "name": "stdout",
          "text": [
            "Ingrese un valor para 'x': 9\n",
            "C\n"
          ]
        }
      ]
    },
    {
      "cell_type": "code",
      "source": [
        "# Ejercicio horas extra:\n",
        "sbase = float(input(\"Ingrese el sueldo base: \"))\n",
        "nhtotal = int(input(\"Ingrese el número de horas trabajadas: \"))\n",
        "valorh = sbase / 160\n",
        "\n",
        "if nhtotal <= 40:\n",
        "  print(\"Solo gana el salario base. \")\n",
        "  print(sbase)\n",
        "elif (nhtotal > 40) and (nhtotal < 49):\n",
        "  print(\"Horas extra entre 1 y 8.\")\n",
        "  print(sbase + (nhtotal-40)*valorh*2)\n",
        "elif nhtotal >= 49:\n",
        "  print(\"Se tienen mas de 8 horas extra trabajadas.\")\n",
        "  print((nhtotal - 48)*valorh*3 + 8*2*valorh + sbase)\n",
        "else:\n",
        "  print(\"NA\")"
      ],
      "metadata": {
        "colab": {
          "base_uri": "https://localhost:8080/"
        },
        "id": "plxfjQXw7A9J",
        "outputId": "4d244a09-c14e-4f5a-b8f8-8cde57ae881b"
      },
      "execution_count": null,
      "outputs": [
        {
          "output_type": "stream",
          "name": "stdout",
          "text": [
            "Ingrese el sueldo base: 1000000\n",
            "Ingrese el número de horas trabajadas: 49\n",
            "Se tienen mas de 8 horas extra trabajadas.\n",
            "1118750.0\n"
          ]
        }
      ]
    },
    {
      "cell_type": "code",
      "source": [
        ""
      ],
      "metadata": {
        "id": "9TZBLXN8BtCT"
      },
      "execution_count": null,
      "outputs": []
    }
  ]
}